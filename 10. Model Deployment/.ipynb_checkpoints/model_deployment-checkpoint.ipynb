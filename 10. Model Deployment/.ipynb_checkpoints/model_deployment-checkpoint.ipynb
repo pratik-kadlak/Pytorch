{
 "cells": [
  {
   "cell_type": "markdown",
   "id": "98d80071",
   "metadata": {},
   "source": [
    "## While Deploying Model we must ourselves 3 questions\n",
    "1. __What is my most ideal machine learning model deployment scenario ?__\n",
    "2. __Where is my model going to go (cloud or on device)?__\n",
    "3. __How is my model going to functions ?__ <br>\n",
    "<br>\n",
    "#### For Our FoodVision Mini model <br>\n",
    "1. __What is the most ideal machine learning model deployment scenario ?__ <br>\n",
    "> - Performs well: 95%+ accuracy\n",
    "> - Fast: as close as real time (30FPS+ or 30ms latency)\n",
    "\n",
    "2. __Where is my model going to go ?__ <br>\n",
    "> \n",
    "\n",
    "3. __How is my model going to function ?__ <br>\n",
    ">"
   ]
  },
  {
   "cell_type": "code",
   "execution_count": 4,
   "id": "8208e56f",
   "metadata": {},
   "outputs": [
    {
     "name": "stdout",
     "output_type": "stream",
     "text": [
      "[INFO] could't find going_modular scripts... downloading...\n"
     ]
    },
    {
     "name": "stderr",
     "output_type": "stream",
     "text": [
      "Cloning into 'Pytorch'...\n",
      "Updating files: 100% (2962/2962), done.\n"
     ]
    }
   ],
   "source": [
    "import torch\n",
    "import torchvision\n",
    "\n",
    "# Try to get torchinfo, install it if it doesn't work\n",
    "try:\n",
    "    from torchinfo import summary\n",
    "except ImportError:\n",
    "    print(\"[INFO] couldn't find torchinfo... installing...\")\n",
    "    !pip install -q torchinfo\n",
    "    from torchinfo import summary\n",
    "\n",
    "# Try to import the going_modular directory, download it from GitHub if it doesn't work\n",
    "try:\n",
    "    from going_modular import data_setup, engine\n",
    "except ImportError:\n",
    "    print(f\"[INFO] could't find going_modular scripts... downloading...\")\n",
    "    import os\n",
    "    os.system('git clone https://github.com/pratik-kadlak/Pytorch')\n",
    "    os.system('mv \"Pytorch/6. Going Modular\" \"going_modular\"')\n",
    "    os.system('rm -rf Pytorch')\n",
    "    from going_modular import data_setup, engine"
   ]
  },
  {
   "cell_type": "code",
   "execution_count": 3,
   "id": "d6a6dbb8",
   "metadata": {},
   "outputs": [
    {
     "data": {
      "text/plain": [
       "'mps'"
      ]
     },
     "execution_count": 3,
     "metadata": {},
     "output_type": "execute_result"
    }
   ],
   "source": [
    "device = \"mps\" if torch.backends.mps.is_available() else \"cpu\"\n",
    "device "
   ]
  },
  {
   "cell_type": "code",
   "execution_count": 7,
   "id": "f9aab3d6",
   "metadata": {},
   "outputs": [
    {
     "data": {
      "text/plain": [
       "0"
      ]
     },
     "execution_count": 7,
     "metadata": {},
     "output_type": "execute_result"
    }
   ],
   "source": [
    "# removing the current data folder in going_modular as it contains 10% data\n",
    "os.system('rm -rf going_modular/data')"
   ]
  },
  {
   "cell_type": "code",
   "execution_count": 8,
   "id": "64c5b4fe",
   "metadata": {},
   "outputs": [
    {
     "name": "stdout",
     "output_type": "stream",
     "text": [
      "[INFO] Downloading data from https://github.com/mrdbourke/pytorch-deep-learning/raw/main/data/pizza_steak_sushi_20_percent.zip...\n",
      "[INFO] Extracting data to going_modular/data...\n",
      "[INFO] Data downloaded and extracted to going_modular/data.\n"
     ]
    }
   ],
   "source": [
    "import os\n",
    "import requests\n",
    "import zipfile\n",
    "\n",
    "def download_data(source: str, destination: str):\n",
    "    \"\"\"\n",
    "    Downloads a zip file from the specified source URL and extracts it to the specified destination directory.\n",
    "\n",
    "    Parameters:\n",
    "    source (str): URL of the zip file to be downloaded.\n",
    "    destination (str): Directory where the zip file should be extracted.\n",
    "    \"\"\"\n",
    "    # Check if the destination directory already exists\n",
    "    if not os.path.exists(destination):\n",
    "        os.makedirs(destination)\n",
    "\n",
    "    # Download the file\n",
    "    print(f\"[INFO] Downloading data from {source}...\")\n",
    "    response = requests.get(source)\n",
    "    zip_path = os.path.join(destination, \"data.zip\")\n",
    "\n",
    "    # Save the zip file\n",
    "    with open(zip_path, \"wb\") as f:\n",
    "        f.write(response.content)\n",
    "    \n",
    "    # Extract the zip file\n",
    "    print(f\"[INFO] Extracting data to {destination}...\")\n",
    "    with zipfile.ZipFile(zip_path, \"r\") as zip_ref:\n",
    "        zip_ref.extractall(destination)\n",
    "    \n",
    "    # Remove the zip file after extraction\n",
    "    os.remove(zip_path)\n",
    "    print(f\"[INFO] Data downloaded and extracted to {destination}.\")\n",
    "    \n",
    "\n",
    "download_data(source=\"https://github.com/mrdbourke/pytorch-deep-learning/raw/main/data/pizza_steak_sushi_20_percent.zip\",\n",
    "              destination=\"going_modular/data\")"
   ]
  },
  {
   "cell_type": "code",
   "execution_count": 9,
   "id": "dbeb1d2b",
   "metadata": {},
   "outputs": [
    {
     "data": {
      "text/plain": [
       "(PosixPath('going_modular/data/train'), PosixPath('going_modular/data/test'))"
      ]
     },
     "execution_count": 9,
     "metadata": {},
     "output_type": "execute_result"
    }
   ],
   "source": [
    "# setting up training and test paths\n",
    "from pathlib import Path\n",
    "\n",
    "data_path = Path(\"going_modular/data\")\n",
    "\n",
    "train_dir = data_path / \"train\"\n",
    "test_dir = data_path / \"test\"\n",
    "\n",
    "train_dir, test_dir"
   ]
  },
  {
   "cell_type": "markdown",
   "id": "05db4659",
   "metadata": {},
   "source": [
    "### What we are gonna do is make 2 models 1. Efficientnet_B2 and 2. ViT <br> Compare the results and deploy which best suits our expectation\n"
   ]
  },
  {
   "cell_type": "markdown",
   "id": "8cfcfba4",
   "metadata": {},
   "source": [
    "## Creating Efficientnet_B2 "
   ]
  },
  {
   "cell_type": "markdown",
   "id": "5c40fd8d",
   "metadata": {},
   "source": [
    "__creating dataloaders__"
   ]
  },
  {
   "cell_type": "code",
   "execution_count": 11,
   "id": "5944ed1b",
   "metadata": {},
   "outputs": [
    {
     "data": {
      "text/plain": [
       "(15, 5, ['pizza', 'steak', 'sushi'])"
      ]
     },
     "execution_count": 11,
     "metadata": {},
     "output_type": "execute_result"
    }
   ],
   "source": [
    "from going_modular import data_setup\n",
    "from torchvision import transforms\n",
    "\n",
    "# creating auto_transform_effnetbs\n",
    "weights = torchvision.models.EfficientNet_B2_Weights.DEFAULT\n",
    "effnetb2_transform = weights.transforms()\n",
    "\n",
    "\n",
    "train_dataloader_effnetb2, test_dataloader_effnetb2, class_names = data_setup.create_dataloaders(train_dir=train_dir,\n",
    "                                                                                                 test_dir=test_dir, \n",
    "                                                                                                 transform=effnetb2_transform,\n",
    "                                                                                                 batch_size=32)\n",
    "\n",
    "len(train_dataloader_effnetb2), len(test_dataloader_effnetb2), class_names"
   ]
  },
  {
   "cell_type": "code",
   "execution_count": 15,
   "id": "131df9a5",
   "metadata": {},
   "outputs": [],
   "source": [
    "# creating model\n",
    "from torch import nn\n",
    "\n",
    "effnetb2 = torchvision.models.efficientnet_b2(weights=weights).to(device)\n",
    "\n",
    "# freezing all the layers of the model\n",
    "for parameter in effnetb2.parameters():\n",
    "    parameter.requires_grad=False\n",
    "    \n",
    "# creating the last layer\n",
    "effnetb2.classifier = nn.Sequential(\n",
    "    nn.Dropout(p=0.3, inplace=True),\n",
    "    nn.Linear(in_features=1408,\n",
    "              out_features=len(class_names))\n",
    ").to(device)"
   ]
  },
  {
   "cell_type": "code",
   "execution_count": 17,
   "id": "807d04b1",
   "metadata": {},
   "outputs": [],
   "source": [
    "# creaing a function to create the effnetb2 model\n",
    "def create_effnetb2_model():\n",
    "    effnetb2_weights = torchvision.models.EfficientNet_B2_Weights.DEFAULT\n",
    "    \n",
    "    # create transform\n",
    "    effnetb2_transform = effnetb2_weights.transforms()\n",
    "    \n",
    "    # creating model\n",
    "    effnetb2 = torchvision.models.efficientnet_b2(weights=weights).to(device)\n",
    "    \n",
    "    # freeze all the layers\n",
    "    for param in effnetb2.parameters():\n",
    "        param.requires_grad = False\n",
    "        \n",
    "    # create the last layer\n",
    "    effnetb2.classifier = nn.Sequential(\n",
    "        nn.Dropout(p=0.3, inplace=True),\n",
    "        nn.Linear(in_features=1408,\n",
    "                  out_features=len(class_names))\n",
    "    )\n",
    "    \n",
    "    return effnetb2, effnetb2_transform"
   ]
  },
  {
   "cell_type": "code",
   "execution_count": 26,
   "id": "3e104869",
   "metadata": {},
   "outputs": [
    {
     "data": {
      "text/plain": [
       "================================================================================================================================================================\n",
       "Layer (type (var_name))                                      Input Shape               Output Shape              Param #                   Trainable\n",
       "================================================================================================================================================================\n",
       "EfficientNet (EfficientNet)                                  [32, 3, 224, 224]         [32, 3]                   --                        Partial\n",
       "├─Sequential (features)                                      [32, 3, 224, 224]         [32, 1408, 7, 7]          --                        False\n",
       "│    └─Conv2dNormActivation (0)                              [32, 3, 224, 224]         [32, 32, 112, 112]        --                        False\n",
       "│    │    └─Conv2d (0)                                       [32, 3, 224, 224]         [32, 32, 112, 112]        (864)                     False\n",
       "│    │    └─BatchNorm2d (1)                                  [32, 32, 112, 112]        [32, 32, 112, 112]        (64)                      False\n",
       "│    │    └─SiLU (2)                                         [32, 32, 112, 112]        [32, 32, 112, 112]        --                        --\n",
       "│    └─Sequential (1)                                        [32, 32, 112, 112]        [32, 16, 112, 112]        --                        False\n",
       "│    │    └─MBConv (0)                                       [32, 32, 112, 112]        [32, 16, 112, 112]        (1,448)                   False\n",
       "│    │    └─MBConv (1)                                       [32, 16, 112, 112]        [32, 16, 112, 112]        (612)                     False\n",
       "│    └─Sequential (2)                                        [32, 16, 112, 112]        [32, 24, 56, 56]          --                        False\n",
       "│    │    └─MBConv (0)                                       [32, 16, 112, 112]        [32, 24, 56, 56]          (6,004)                   False\n",
       "│    │    └─MBConv (1)                                       [32, 24, 56, 56]          [32, 24, 56, 56]          (10,710)                  False\n",
       "│    │    └─MBConv (2)                                       [32, 24, 56, 56]          [32, 24, 56, 56]          (10,710)                  False\n",
       "│    └─Sequential (3)                                        [32, 24, 56, 56]          [32, 48, 28, 28]          --                        False\n",
       "│    │    └─MBConv (0)                                       [32, 24, 56, 56]          [32, 48, 28, 28]          (16,518)                  False\n",
       "│    │    └─MBConv (1)                                       [32, 48, 28, 28]          [32, 48, 28, 28]          (43,308)                  False\n",
       "│    │    └─MBConv (2)                                       [32, 48, 28, 28]          [32, 48, 28, 28]          (43,308)                  False\n",
       "│    └─Sequential (4)                                        [32, 48, 28, 28]          [32, 88, 14, 14]          --                        False\n",
       "│    │    └─MBConv (0)                                       [32, 48, 28, 28]          [32, 88, 14, 14]          (50,300)                  False\n",
       "│    │    └─MBConv (1)                                       [32, 88, 14, 14]          [32, 88, 14, 14]          (123,750)                 False\n",
       "│    │    └─MBConv (2)                                       [32, 88, 14, 14]          [32, 88, 14, 14]          (123,750)                 False\n",
       "│    │    └─MBConv (3)                                       [32, 88, 14, 14]          [32, 88, 14, 14]          (123,750)                 False\n",
       "│    └─Sequential (5)                                        [32, 88, 14, 14]          [32, 120, 14, 14]         --                        False\n",
       "│    │    └─MBConv (0)                                       [32, 88, 14, 14]          [32, 120, 14, 14]         (149,158)                 False\n",
       "│    │    └─MBConv (1)                                       [32, 120, 14, 14]         [32, 120, 14, 14]         (237,870)                 False\n",
       "│    │    └─MBConv (2)                                       [32, 120, 14, 14]         [32, 120, 14, 14]         (237,870)                 False\n",
       "│    │    └─MBConv (3)                                       [32, 120, 14, 14]         [32, 120, 14, 14]         (237,870)                 False\n",
       "│    └─Sequential (6)                                        [32, 120, 14, 14]         [32, 208, 7, 7]           --                        False\n",
       "│    │    └─MBConv (0)                                       [32, 120, 14, 14]         [32, 208, 7, 7]           (301,406)                 False\n",
       "│    │    └─MBConv (1)                                       [32, 208, 7, 7]           [32, 208, 7, 7]           (686,868)                 False\n",
       "│    │    └─MBConv (2)                                       [32, 208, 7, 7]           [32, 208, 7, 7]           (686,868)                 False\n",
       "│    │    └─MBConv (3)                                       [32, 208, 7, 7]           [32, 208, 7, 7]           (686,868)                 False\n",
       "│    │    └─MBConv (4)                                       [32, 208, 7, 7]           [32, 208, 7, 7]           (686,868)                 False\n",
       "│    └─Sequential (7)                                        [32, 208, 7, 7]           [32, 352, 7, 7]           --                        False\n",
       "│    │    └─MBConv (0)                                       [32, 208, 7, 7]           [32, 352, 7, 7]           (846,900)                 False\n",
       "│    │    └─MBConv (1)                                       [32, 352, 7, 7]           [32, 352, 7, 7]           (1,888,920)               False\n",
       "│    └─Conv2dNormActivation (8)                              [32, 352, 7, 7]           [32, 1408, 7, 7]          --                        False\n",
       "│    │    └─Conv2d (0)                                       [32, 352, 7, 7]           [32, 1408, 7, 7]          (495,616)                 False\n",
       "│    │    └─BatchNorm2d (1)                                  [32, 1408, 7, 7]          [32, 1408, 7, 7]          (2,816)                   False\n",
       "│    │    └─SiLU (2)                                         [32, 1408, 7, 7]          [32, 1408, 7, 7]          --                        --\n",
       "├─AdaptiveAvgPool2d (avgpool)                                [32, 1408, 7, 7]          [32, 1408, 1, 1]          --                        --\n",
       "├─Sequential (classifier)                                    [32, 1408]                [32, 3]                   --                        True\n",
       "│    └─Dropout (0)                                           [32, 1408]                [32, 1408]                --                        --\n",
       "│    └─Linear (1)                                            [32, 1408]                [32, 3]                   4,227                     True\n",
       "================================================================================================================================================================\n",
       "Total params: 7,705,221\n",
       "Trainable params: 4,227\n",
       "Non-trainable params: 7,700,994\n",
       "Total mult-adds (Units.GIGABYTES): 21.04\n",
       "================================================================================================================================================================\n",
       "Input size (MB): 19.27\n",
       "Forward/backward pass size (MB): 5017.53\n",
       "Params size (MB): 30.82\n",
       "Estimated Total Size (MB): 5067.62\n",
       "================================================================================================================================================================"
      ]
     },
     "execution_count": 26,
     "metadata": {},
     "output_type": "execute_result"
    }
   ],
   "source": [
    "effnetb2, effnetb2_transform = create_effnetb2_model()\n",
    "\n",
    "# printing summary\n",
    "summary(effnetb2,\n",
    "        input_size=(32, 3, 224, 224),\n",
    "        col_names=[\"input_size\", \"output_size\", \"num_params\", \"trainable\"],\n",
    "        row_settings=[\"var_names\"])"
   ]
  },
  {
   "cell_type": "code",
   "execution_count": 27,
   "id": "c210f6ef",
   "metadata": {},
   "outputs": [
    {
     "data": {
      "text/plain": [
       "(15, 5)"
      ]
     },
     "execution_count": 27,
     "metadata": {},
     "output_type": "execute_result"
    }
   ],
   "source": [
    "train_dataloader_effnetb2, test_dataloader_effnetb2, class_names = data_setup.create_dataloaders(train_dir=train_dir,\n",
    "                                                                                                 test_dir=test_dir,\n",
    "                                                                                                 transform=effnetb2_transform,\n",
    "                                                                                                 batch_size=32)\n",
    "\n",
    "len(train_dataloader_effnetb2), len(test_dataloader_effnetb2)"
   ]
  },
  {
   "cell_type": "code",
   "execution_count": 28,
   "id": "6d25e940",
   "metadata": {},
   "outputs": [
    {
     "name": "stdout",
     "output_type": "stream",
     "text": [
      "Epoch:0\tTrain_Loss:0.9690\tTrain_Acc:54.5833\tTest_Loss:0.7096\tTest_Acc:94.7159\n",
      "Epoch:1\tTrain_Loss:0.7233\tTrain_Acc:77.7083\tTest_Loss:0.5651\tTest_Acc:97.5000\n",
      "Epoch:2\tTrain_Loss:0.5634\tTrain_Acc:85.6250\tTest_Loss:0.4915\tTest_Acc:93.8068\n",
      "Epoch:3\tTrain_Loss:0.4446\tTrain_Acc:92.0833\tTest_Loss:0.4334\tTest_Acc:95.9659\n",
      "Epoch:4\tTrain_Loss:0.4687\tTrain_Acc:87.9167\tTest_Loss:0.3876\tTest_Acc:97.5000\n",
      "Epoch:5\tTrain_Loss:0.4170\tTrain_Acc:86.6667\tTest_Loss:0.3401\tTest_Acc:97.5000\n",
      "Epoch:6\tTrain_Loss:0.3900\tTrain_Acc:91.0417\tTest_Loss:0.3339\tTest_Acc:96.5909\n",
      "Epoch:7\tTrain_Loss:0.3299\tTrain_Acc:92.5000\tTest_Loss:0.3229\tTest_Acc:95.6818\n",
      "Epoch:8\tTrain_Loss:0.3092\tTrain_Acc:94.1667\tTest_Loss:0.3045\tTest_Acc:95.6818\n",
      "Epoch:9\tTrain_Loss:0.3348\tTrain_Acc:90.4167\tTest_Loss:0.2822\tTest_Acc:95.9659\n"
     ]
    }
   ],
   "source": [
    "# training the model\n",
    "from going_modular import engine\n",
    "\n",
    "# setting up loss_fn and optimizer\n",
    "loss_fn = nn.CrossEntropyLoss()\n",
    "optimizer = torch.optim.Adam(params=effnetb2.parameters(), lr=0.001)\n",
    "\n",
    "effnetb2_results = engine.train(model=effnetb2,\n",
    "                                train_dataloader=train_dataloader_effnetb2, \n",
    "                                test_dataloader=test_dataloader_effnetb2,\n",
    "                                loss_fn=loss_fn,\n",
    "                                optimizer=optimizer,\n",
    "                                device=device,\n",
    "                                epochs=10)"
   ]
  },
  {
   "cell_type": "code",
   "execution_count": 29,
   "id": "88038eda",
   "metadata": {},
   "outputs": [
    {
     "data": {
      "image/png": "[encoded data removed]",
      "text/plain": [
       "<Figure size 1500x700 with 2 Axes>"
      ]
     },
     "metadata": {},
     "output_type": "display_data"
    }
   ],
   "source": [
    "# plotting loss curves\n",
    "\n",
    "import os\n",
    "import sys\n",
    "\n",
    "# Adding the parent directory to sys.path\n",
    "parent_dir = os.path.abspath(os.path.join(os.getcwd(), os.pardir))\n",
    "sys.path.append(parent_dir)\n",
    "\n",
    "try: \n",
    "    from helper_functions import plot_loss_curve\n",
    "except ImportError:\n",
    "    print(f\"[INFO] Couldn't find helper_functions.py, downloading...\")\n",
    "    helper_functions_path = os.path.join(parent_dir, \"helper_functions.py\")\n",
    "    with open(helper_functions_path, \"wb\") as f:\n",
    "        import requests\n",
    "        request = requests.get(\"https://raw.githubusercontent.com/pratik-kadlak/Pytorch/main/helper_functions.py\")\n",
    "        f.write(request.content)\n",
    "    from helper_functions import plot_loss_curve\n",
    "    \n",
    "plot_loss_curve(effnetb2_results)"
   ]
  },
  {
   "cell_type": "code",
   "execution_count": 30,
   "id": "97e9f67c",
   "metadata": {},
   "outputs": [
    {
     "name": "stdout",
     "output_type": "stream",
     "text": [
      "[INFO] Saving model to: models/pretrained_effnetb2_feature_extractor.pth\n"
     ]
    }
   ],
   "source": [
    "# saving the model\n",
    "from going_modular import utils\n",
    "utils.save_model(model=effnetb2,\n",
    "                 target_dir=\"models\",\n",
    "                 model_name=\"pretrained_effnetb2_feature_extractor.pth\")"
   ]
  },
  {
   "cell_type": "code",
   "execution_count": 39,
   "id": "92ae28a5",
   "metadata": {},
   "outputs": [
    {
     "name": "stdout",
     "output_type": "stream",
     "text": [
      "EffnetB2_Model_Size: 29.83 MB\n"
     ]
    }
   ],
   "source": [
    "# getting the size of the model \n",
    "# to that we can get the idea whether this model can be deployed on edge devices or not\n",
    "\n",
    "from pathlib import Path\n",
    "effnetb2_size = round(Path(\"models/pretrained_effnetb2_feature_extractor.pth\").stat().st_size / (1024*1024), 2)\n",
    "print(f\"EffnetB2_Model_Size: {effnetb2_size :.2f} MB\")"
   ]
  },
  {
   "cell_type": "code",
   "execution_count": 40,
   "id": "41341fd1",
   "metadata": {},
   "outputs": [
    {
     "data": {
      "text/plain": [
       "{'test_loss': 0.28216060996055603,\n",
       " 'test_acc': 95.9659090909091,\n",
       " 'num_parameters': 7705221,\n",
       " 'model_size (MB)': 29.83}"
      ]
     },
     "execution_count": 40,
     "metadata": {},
     "output_type": "execute_result"
    }
   ],
   "source": [
    "# count no of parameter in EffnetB2\n",
    "effnetb2_total_params = sum(torch.numel(param) for param in effnetb2.parameters())\n",
    "\n",
    "# create a stat dictionary to compare the two models later\n",
    "effnetb2_stat = {\"test_loss\": effnetb2_results[\"test_loss\"][-1],\n",
    "                 \"test_acc\": effnetb2_results[\"test_acc\"][-1],\n",
    "                 \"num_parameters\": effnetb2_total_params,\n",
    "                 \"model_size (MB)\": effnetb2_size}\n",
    "\n",
    "effnetb2_stat"
   ]
  }
 ],
 "metadata": {
  "kernelspec": {
   "display_name": "Python 3 (ipykernel)",
   "language": "python",
   "name": "python3"
  },
  "language_info": {
   "codemirror_mode": {
    "name": "ipython",
    "version": 3
   },
   "file_extension": ".py",
   "mimetype": "text/x-python",
   "name": "python",
   "nbconvert_exporter": "python",
   "pygments_lexer": "ipython3",
   "version": "3.11.5"
  }
 },
 "nbformat": 4,
 "nbformat_minor": 5
}
