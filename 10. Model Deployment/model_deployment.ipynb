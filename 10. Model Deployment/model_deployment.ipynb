{
 "cells": [
  {
   "cell_type": "markdown",
   "id": "98d80071",
   "metadata": {},
   "source": [
    "## While Deploying Model we must ourselves 3 questions\n",
    "1. __What is my most ideal machine learning model deployment scenario ?__\n",
    "2. __Where is my model going to go (cloud or on device)?__\n",
    "3. __How is my model going to functions ?__ <br>\n",
    "<br>\n",
    "#### For Our FoodVision Mini model <br>\n",
    "1. __What is the most ideal machine learning model deployment scenario ?__ <br>\n",
    "> - Performs well: 95%+ accuracy\n",
    "> - Fast: as close as real time (30FPS+ or 30ms latency)\n",
    "\n",
    "2. __Where is my model going to go ?__ <br>\n",
    "> \n",
    "\n",
    "3. __How is my model going to function ?__ <br>\n",
    ">"
   ]
  },
  {
   "cell_type": "code",
   "execution_count": 6,
   "id": "8208e56f",
   "metadata": {},
   "outputs": [
    {
     "name": "stdout",
     "output_type": "stream",
     "text": [
      "[INFO] couldn't find torchinfo... installing...\n",
      "\u001b[33mWARNING: You are using pip version 21.2.4; however, version 24.1.1 is available.\n",
      "You should consider upgrading via the '/Library/Developer/CommandLineTools/usr/bin/python3 -m pip install --upgrade pip' command.\u001b[0m\n"
     ]
    }
   ],
   "source": [
    "import torch\n",
    "import torchvision\n",
    "\n",
    "# Try to get torchinfo, install it if it doesn't work\n",
    "try:\n",
    "    from torchinfo import summary\n",
    "except ImportError:\n",
    "    print(\"[INFO] couldn't find torchinfo... installing...\")\n",
    "    !pip3 install -q torchinfo\n",
    "    from torchinfo import summary\n",
    "\n",
    "# Try to import the going_modular directory, download it from GitHub if it doesn't work\n",
    "try:\n",
    "    from going_modular import data_setup, engine\n",
    "except ImportError:\n",
    "    print(f\"[INFO] could't find going_modular scripts... downloading...\")\n",
    "    import os\n",
    "    os.system('git clone https://github.com/pratik-kadlak/Pytorch')\n",
    "    os.system('mv \"Pytorch/6. Going Modular\" \"going_modular\"')\n",
    "    os.system('rm -rf Pytorch')\n",
    "    from going_modular import data_setup, engine"
   ]
  },
  {
   "cell_type": "code",
   "execution_count": 7,
   "id": "d6a6dbb8",
   "metadata": {},
   "outputs": [
    {
     "data": {
      "text/plain": [
       "'mps'"
      ]
     },
     "execution_count": 7,
     "metadata": {},
     "output_type": "execute_result"
    }
   ],
   "source": [
    "device = \"mps\" if torch.backends.mps.is_available() else \"cpu\"\n",
    "device "
   ]
  },
  {
   "cell_type": "code",
   "execution_count": 8,
   "id": "f9aab3d6",
   "metadata": {},
   "outputs": [
    {
     "data": {
      "text/plain": [
       "0"
      ]
     },
     "execution_count": 8,
     "metadata": {},
     "output_type": "execute_result"
    }
   ],
   "source": [
    "# removing the current data folder in going_modular as it contains 10% data\n",
    "import os\n",
    "os.system('rm -rf going_modular/data')"
   ]
  },
  {
   "cell_type": "code",
   "execution_count": 9,
   "id": "64c5b4fe",
   "metadata": {},
   "outputs": [
    {
     "name": "stderr",
     "output_type": "stream",
     "text": [
      "/Users/pratikkadlak/Library/Python/3.9/lib/python/site-packages/urllib3/__init__.py:35: NotOpenSSLWarning: urllib3 v2 only supports OpenSSL 1.1.1+, currently the 'ssl' module is compiled with 'LibreSSL 2.8.3'. See: https://github.com/urllib3/urllib3/issues/3020\n",
      "  warnings.warn(\n"
     ]
    },
    {
     "name": "stdout",
     "output_type": "stream",
     "text": [
      "[INFO] Downloading data from https://github.com/mrdbourke/pytorch-deep-learning/raw/main/data/pizza_steak_sushi_20_percent.zip...\n",
      "[INFO] Extracting data to going_modular/data...\n",
      "[INFO] Data downloaded and extracted to going_modular/data.\n"
     ]
    }
   ],
   "source": [
    "import os\n",
    "import requests\n",
    "import zipfile\n",
    "\n",
    "def download_data(source: str, destination: str):\n",
    "    \"\"\"\n",
    "    Downloads a zip file from the specified source URL and extracts it to the specified destination directory.\n",
    "\n",
    "    Parameters:\n",
    "    source (str): URL of the zip file to be downloaded.\n",
    "    destination (str): Directory where the zip file should be extracted.\n",
    "    \"\"\"\n",
    "    # Check if the destination directory already exists\n",
    "    if not os.path.exists(destination):\n",
    "        os.makedirs(destination)\n",
    "\n",
    "    # Download the file\n",
    "    print(f\"[INFO] Downloading data from {source}...\")\n",
    "    response = requests.get(source)\n",
    "    zip_path = os.path.join(destination, \"data.zip\")\n",
    "\n",
    "    # Save the zip file\n",
    "    with open(zip_path, \"wb\") as f:\n",
    "        f.write(response.content)\n",
    "    \n",
    "    # Extract the zip file\n",
    "    print(f\"[INFO] Extracting data to {destination}...\")\n",
    "    with zipfile.ZipFile(zip_path, \"r\") as zip_ref:\n",
    "        zip_ref.extractall(destination)\n",
    "    \n",
    "    # Remove the zip file after extraction\n",
    "    os.remove(zip_path)\n",
    "    print(f\"[INFO] Data downloaded and extracted to {destination}.\")\n",
    "    \n",
    "\n",
    "download_data(source=\"https://github.com/mrdbourke/pytorch-deep-learning/raw/main/data/pizza_steak_sushi_20_percent.zip\",\n",
    "              destination=\"going_modular/data\")"
   ]
  },
  {
   "cell_type": "code",
   "execution_count": 10,
   "id": "dbeb1d2b",
   "metadata": {},
   "outputs": [
    {
     "data": {
      "text/plain": [
       "(PosixPath('going_modular/data/train'), PosixPath('going_modular/data/test'))"
      ]
     },
     "execution_count": 10,
     "metadata": {},
     "output_type": "execute_result"
    }
   ],
   "source": [
    "# setting up training and test paths\n",
    "from pathlib import Path\n",
    "\n",
    "data_path = Path(\"going_modular/data\")\n",
    "\n",
    "train_dir = data_path / \"train\"\n",
    "test_dir = data_path / \"test\"\n",
    "\n",
    "train_dir, test_dir"
   ]
  },
  {
   "cell_type": "markdown",
   "id": "05db4659",
   "metadata": {},
   "source": [
    "### What we are gonna do is make 2 models 1. Efficientnet_B2 and 2. ViT <br> Compare the results and deploy which best suits our expectation\n"
   ]
  },
  {
   "cell_type": "markdown",
   "id": "8cfcfba4",
   "metadata": {},
   "source": [
    "## Creating Efficientnet_B2 "
   ]
  },
  {
   "cell_type": "code",
   "execution_count": 11,
   "id": "5944ed1b",
   "metadata": {},
   "outputs": [
    {
     "data": {
      "text/plain": [
       "(15, 5, ['pizza', 'steak', 'sushi'])"
      ]
     },
     "execution_count": 11,
     "metadata": {},
     "output_type": "execute_result"
    }
   ],
   "source": [
    "from going_modular import data_setup\n",
    "from torchvision import transforms\n",
    "\n",
    "# creating auto_transform_effnetbs\n",
    "weights = torchvision.models.EfficientNet_B2_Weights.DEFAULT\n",
    "effnetb2_transform = weights.transforms()\n",
    "\n",
    "\n",
    "train_dataloader_effnetb2, test_dataloader_effnetb2, class_names = data_setup.create_dataloaders(train_dir=train_dir,\n",
    "                                                                                                 test_dir=test_dir, \n",
    "                                                                                                 transform=effnetb2_transform,\n",
    "                                                                                                 batch_size=32)\n",
    "\n",
    "len(train_dataloader_effnetb2), len(test_dataloader_effnetb2), class_names"
   ]
  },
  {
   "cell_type": "code",
   "execution_count": 12,
   "id": "131df9a5",
   "metadata": {},
   "outputs": [],
   "source": [
    "# creating model\n",
    "from torch import nn\n",
    "\n",
    "effnetb2 = torchvision.models.efficientnet_b2(weights=weights).to(device)\n",
    "\n",
    "# freezing all the layers of the model\n",
    "for parameter in effnetb2.parameters():\n",
    "    parameter.requires_grad=False\n",
    "    \n",
    "# creating the last layer\n",
    "effnetb2.classifier = nn.Sequential(\n",
    "    nn.Dropout(p=0.3, inplace=True),\n",
    "    nn.Linear(in_features=1408,\n",
    "              out_features=len(class_names))\n",
    ").to(device)"
   ]
  },
  {
   "cell_type": "code",
   "execution_count": 13,
   "id": "807d04b1",
   "metadata": {},
   "outputs": [],
   "source": [
    "# creaing a function to create the effnetb2 model\n",
    "def create_effnetb2_model():\n",
    "    effnetb2_weights = torchvision.models.EfficientNet_B2_Weights.DEFAULT\n",
    "    \n",
    "    # create transform\n",
    "    effnetb2_transform = effnetb2_weights.transforms()\n",
    "    \n",
    "    # creating model\n",
    "    effnetb2 = torchvision.models.efficientnet_b2(weights=weights).to(device)\n",
    "    \n",
    "    # freeze all the layers\n",
    "    for param in effnetb2.parameters():\n",
    "        param.requires_grad = False\n",
    "        \n",
    "    # create the last layer\n",
    "    effnetb2.classifier = nn.Sequential(\n",
    "        nn.Dropout(p=0.3, inplace=True),\n",
    "        nn.Linear(in_features=1408,\n",
    "                  out_features=len(class_names))\n",
    "    )\n",
    "    \n",
    "    return effnetb2, effnetb2_transform"
   ]
  },
  {
   "cell_type": "code",
   "execution_count": 14,
   "id": "3e104869",
   "metadata": {},
   "outputs": [
    {
     "data": {
      "text/plain": [
       "================================================================================================================================================================\n",
       "Layer (type (var_name))                                      Input Shape               Output Shape              Param #                   Trainable\n",
       "================================================================================================================================================================\n",
       "EfficientNet (EfficientNet)                                  [32, 3, 224, 224]         [32, 3]                   --                        Partial\n",
       "├─Sequential (features)                                      [32, 3, 224, 224]         [32, 1408, 7, 7]          --                        False\n",
       "│    └─Conv2dNormActivation (0)                              [32, 3, 224, 224]         [32, 32, 112, 112]        --                        False\n",
       "│    │    └─Conv2d (0)                                       [32, 3, 224, 224]         [32, 32, 112, 112]        (864)                     False\n",
       "│    │    └─BatchNorm2d (1)                                  [32, 32, 112, 112]        [32, 32, 112, 112]        (64)                      False\n",
       "│    │    └─SiLU (2)                                         [32, 32, 112, 112]        [32, 32, 112, 112]        --                        --\n",
       "│    └─Sequential (1)                                        [32, 32, 112, 112]        [32, 16, 112, 112]        --                        False\n",
       "│    │    └─MBConv (0)                                       [32, 32, 112, 112]        [32, 16, 112, 112]        (1,448)                   False\n",
       "│    │    └─MBConv (1)                                       [32, 16, 112, 112]        [32, 16, 112, 112]        (612)                     False\n",
       "│    └─Sequential (2)                                        [32, 16, 112, 112]        [32, 24, 56, 56]          --                        False\n",
       "│    │    └─MBConv (0)                                       [32, 16, 112, 112]        [32, 24, 56, 56]          (6,004)                   False\n",
       "│    │    └─MBConv (1)                                       [32, 24, 56, 56]          [32, 24, 56, 56]          (10,710)                  False\n",
       "│    │    └─MBConv (2)                                       [32, 24, 56, 56]          [32, 24, 56, 56]          (10,710)                  False\n",
       "│    └─Sequential (3)                                        [32, 24, 56, 56]          [32, 48, 28, 28]          --                        False\n",
       "│    │    └─MBConv (0)                                       [32, 24, 56, 56]          [32, 48, 28, 28]          (16,518)                  False\n",
       "│    │    └─MBConv (1)                                       [32, 48, 28, 28]          [32, 48, 28, 28]          (43,308)                  False\n",
       "│    │    └─MBConv (2)                                       [32, 48, 28, 28]          [32, 48, 28, 28]          (43,308)                  False\n",
       "│    └─Sequential (4)                                        [32, 48, 28, 28]          [32, 88, 14, 14]          --                        False\n",
       "│    │    └─MBConv (0)                                       [32, 48, 28, 28]          [32, 88, 14, 14]          (50,300)                  False\n",
       "│    │    └─MBConv (1)                                       [32, 88, 14, 14]          [32, 88, 14, 14]          (123,750)                 False\n",
       "│    │    └─MBConv (2)                                       [32, 88, 14, 14]          [32, 88, 14, 14]          (123,750)                 False\n",
       "│    │    └─MBConv (3)                                       [32, 88, 14, 14]          [32, 88, 14, 14]          (123,750)                 False\n",
       "│    └─Sequential (5)                                        [32, 88, 14, 14]          [32, 120, 14, 14]         --                        False\n",
       "│    │    └─MBConv (0)                                       [32, 88, 14, 14]          [32, 120, 14, 14]         (149,158)                 False\n",
       "│    │    └─MBConv (1)                                       [32, 120, 14, 14]         [32, 120, 14, 14]         (237,870)                 False\n",
       "│    │    └─MBConv (2)                                       [32, 120, 14, 14]         [32, 120, 14, 14]         (237,870)                 False\n",
       "│    │    └─MBConv (3)                                       [32, 120, 14, 14]         [32, 120, 14, 14]         (237,870)                 False\n",
       "│    └─Sequential (6)                                        [32, 120, 14, 14]         [32, 208, 7, 7]           --                        False\n",
       "│    │    └─MBConv (0)                                       [32, 120, 14, 14]         [32, 208, 7, 7]           (301,406)                 False\n",
       "│    │    └─MBConv (1)                                       [32, 208, 7, 7]           [32, 208, 7, 7]           (686,868)                 False\n",
       "│    │    └─MBConv (2)                                       [32, 208, 7, 7]           [32, 208, 7, 7]           (686,868)                 False\n",
       "│    │    └─MBConv (3)                                       [32, 208, 7, 7]           [32, 208, 7, 7]           (686,868)                 False\n",
       "│    │    └─MBConv (4)                                       [32, 208, 7, 7]           [32, 208, 7, 7]           (686,868)                 False\n",
       "│    └─Sequential (7)                                        [32, 208, 7, 7]           [32, 352, 7, 7]           --                        False\n",
       "│    │    └─MBConv (0)                                       [32, 208, 7, 7]           [32, 352, 7, 7]           (846,900)                 False\n",
       "│    │    └─MBConv (1)                                       [32, 352, 7, 7]           [32, 352, 7, 7]           (1,888,920)               False\n",
       "│    └─Conv2dNormActivation (8)                              [32, 352, 7, 7]           [32, 1408, 7, 7]          --                        False\n",
       "│    │    └─Conv2d (0)                                       [32, 352, 7, 7]           [32, 1408, 7, 7]          (495,616)                 False\n",
       "│    │    └─BatchNorm2d (1)                                  [32, 1408, 7, 7]          [32, 1408, 7, 7]          (2,816)                   False\n",
       "│    │    └─SiLU (2)                                         [32, 1408, 7, 7]          [32, 1408, 7, 7]          --                        --\n",
       "├─AdaptiveAvgPool2d (avgpool)                                [32, 1408, 7, 7]          [32, 1408, 1, 1]          --                        --\n",
       "├─Sequential (classifier)                                    [32, 1408]                [32, 3]                   --                        True\n",
       "│    └─Dropout (0)                                           [32, 1408]                [32, 1408]                --                        --\n",
       "│    └─Linear (1)                                            [32, 1408]                [32, 3]                   4,227                     True\n",
       "================================================================================================================================================================\n",
       "Total params: 7,705,221\n",
       "Trainable params: 4,227\n",
       "Non-trainable params: 7,700,994\n",
       "Total mult-adds (G): 21.04\n",
       "================================================================================================================================================================\n",
       "Input size (MB): 19.27\n",
       "Forward/backward pass size (MB): 5017.53\n",
       "Params size (MB): 30.82\n",
       "Estimated Total Size (MB): 5067.62\n",
       "================================================================================================================================================================"
      ]
     },
     "execution_count": 14,
     "metadata": {},
     "output_type": "execute_result"
    }
   ],
   "source": [
    "effnetb2, effnetb2_transform = create_effnetb2_model()\n",
    "\n",
    "# printing summary\n",
    "summary(effnetb2,\n",
    "        input_size=(32, 3, 224, 224),\n",
    "        col_names=[\"input_size\", \"output_size\", \"num_params\", \"trainable\"],\n",
    "        row_settings=[\"var_names\"])"
   ]
  },
  {
   "cell_type": "code",
   "execution_count": 15,
   "id": "c210f6ef",
   "metadata": {},
   "outputs": [
    {
     "data": {
      "text/plain": [
       "(15, 5)"
      ]
     },
     "execution_count": 15,
     "metadata": {},
     "output_type": "execute_result"
    }
   ],
   "source": [
    "train_dataloader_effnetb2, test_dataloader_effnetb2, class_names = data_setup.create_dataloaders(train_dir=train_dir,\n",
    "                                                                                                 test_dir=test_dir,\n",
    "                                                                                                 transform=effnetb2_transform,\n",
    "                                                                                                 batch_size=32)\n",
    "\n",
    "len(train_dataloader_effnetb2), len(test_dataloader_effnetb2)"
   ]
  },
  {
   "cell_type": "code",
   "execution_count": 16,
   "id": "6d25e940",
   "metadata": {},
   "outputs": [
    {
     "name": "stdout",
     "output_type": "stream",
     "text": [
      "Epoch:0\tTrain_Loss:0.9635\tTrain_Acc:59.1667\tTest_Loss:0.7276\tTest_Acc:91.3068\n",
      "Epoch:1\tTrain_Loss:0.6822\tTrain_Acc:84.7917\tTest_Loss:0.5913\tTest_Acc:94.0909\n",
      "Epoch:2\tTrain_Loss:0.5964\tTrain_Acc:82.9167\tTest_Loss:0.4924\tTest_Acc:95.3409\n",
      "Epoch:3\tTrain_Loss:0.5253\tTrain_Acc:84.5833\tTest_Loss:0.4536\tTest_Acc:95.0568\n",
      "Epoch:4\tTrain_Loss:0.4397\tTrain_Acc:86.2500\tTest_Loss:0.3880\tTest_Acc:92.5000\n",
      "Epoch:5\tTrain_Loss:0.3964\tTrain_Acc:88.1250\tTest_Loss:0.3647\tTest_Acc:94.4318\n",
      "Epoch:6\tTrain_Loss:0.3770\tTrain_Acc:88.9583\tTest_Loss:0.3427\tTest_Acc:94.0909\n",
      "Epoch:7\tTrain_Loss:0.3617\tTrain_Acc:88.9583\tTest_Loss:0.3346\tTest_Acc:95.3409\n",
      "Epoch:8\tTrain_Loss:0.3300\tTrain_Acc:94.1667\tTest_Loss:0.3091\tTest_Acc:95.9659\n",
      "Epoch:9\tTrain_Loss:0.3772\tTrain_Acc:89.5833\tTest_Loss:0.2866\tTest_Acc:96.5909\n"
     ]
    }
   ],
   "source": [
    "# training the model\n",
    "from going_modular import engine\n",
    "\n",
    "# setting up loss_fn and optimizer\n",
    "loss_fn = nn.CrossEntropyLoss()\n",
    "optimizer = torch.optim.Adam(params=effnetb2.parameters(), lr=0.001)\n",
    "\n",
    "effnetb2_results = engine.train(model=effnetb2,\n",
    "                                train_dataloader=train_dataloader_effnetb2, \n",
    "                                test_dataloader=test_dataloader_effnetb2,\n",
    "                                loss_fn=loss_fn,\n",
    "                                optimizer=optimizer,\n",
    "                                device=device,\n",
    "                                epochs=10)"
   ]
  },
  {
   "cell_type": "code",
   "execution_count": 17,
   "id": "88038eda",
   "metadata": {},
   "outputs": [
    {
     "name": "stderr",
     "output_type": "stream",
     "text": [
      "Matplotlib is building the font cache; this may take a moment.\n"
     ]
    },
    {
     "data": {
      "image/png": "[encoded data removed]",
      "text/plain": [
       "<Figure size 1500x700 with 2 Axes>"
      ]
     },
     "metadata": {},
     "output_type": "display_data"
    }
   ],
   "source": [
    "# plotting loss curves\n",
    "\n",
    "import os\n",
    "import sys\n",
    "\n",
    "# Adding the parent directory to sys.path\n",
    "parent_dir = os.path.abspath(os.path.join(os.getcwd(), os.pardir))\n",
    "sys.path.append(parent_dir)\n",
    "\n",
    "try: \n",
    "    from helper_functions import plot_loss_curve\n",
    "except ImportError:\n",
    "    print(f\"[INFO] Couldn't find helper_functions.py, downloading...\")\n",
    "    helper_functions_path = os.path.join(parent_dir, \"helper_functions.py\")\n",
    "    with open(helper_functions_path, \"wb\") as f:\n",
    "        import requests\n",
    "        request = requests.get(\"https://raw.githubusercontent.com/pratik-kadlak/Pytorch/main/helper_functions.py\")\n",
    "        f.write(request.content)\n",
    "    from helper_functions import plot_loss_curve\n",
    "    \n",
    "plot_loss_curve(effnetb2_results)"
   ]
  },
  {
   "cell_type": "code",
   "execution_count": 18,
   "id": "97e9f67c",
   "metadata": {},
   "outputs": [
    {
     "name": "stdout",
     "output_type": "stream",
     "text": [
      "[INFO] Saving model to: models/pretrained_effnetb2_feature_extractor.pth\n"
     ]
    }
   ],
   "source": [
    "# saving the model\n",
    "from going_modular import utils\n",
    "utils.save_model(model=effnetb2,\n",
    "                 target_dir=\"models\",\n",
    "                 model_name=\"pretrained_effnetb2_feature_extractor.pth\")"
   ]
  },
  {
   "cell_type": "code",
   "execution_count": 19,
   "id": "92ae28a5",
   "metadata": {},
   "outputs": [
    {
     "name": "stdout",
     "output_type": "stream",
     "text": [
      "EffnetB2_Model_Size: 29.83 MB\n"
     ]
    }
   ],
   "source": [
    "# getting the size of the model \n",
    "# to that we can get the idea whether this model can be deployed on edge devices or not\n",
    "\n",
    "from pathlib import Path\n",
    "effnetb2_size = round(Path(\"models/pretrained_effnetb2_feature_extractor.pth\").stat().st_size / (1024*1024), 2)\n",
    "print(f\"EffnetB2_Model_Size: {effnetb2_size :.2f} MB\")"
   ]
  },
  {
   "cell_type": "code",
   "execution_count": 20,
   "id": "41341fd1",
   "metadata": {},
   "outputs": [
    {
     "data": {
      "text/plain": [
       "{'test_loss': 0.28661768436431884,\n",
       " 'test_acc': 96.5909090909091,\n",
       " 'num_parameters': 7705221,\n",
       " 'model_size (MB)': 29.83}"
      ]
     },
     "execution_count": 20,
     "metadata": {},
     "output_type": "execute_result"
    }
   ],
   "source": [
    "# count no of parameter in EffnetB2\n",
    "effnetb2_total_params = sum(torch.numel(param) for param in effnetb2.parameters())\n",
    "\n",
    "# create a stat dictionary to compare the two models later\n",
    "effnetb2_stat = {\"test_loss\": effnetb2_results[\"test_loss\"][-1],\n",
    "                 \"test_acc\": effnetb2_results[\"test_acc\"][-1],\n",
    "                 \"num_parameters\": effnetb2_total_params,\n",
    "                 \"model_size (MB)\": effnetb2_size}\n",
    "\n",
    "effnetb2_stat"
   ]
  },
  {
   "cell_type": "markdown",
   "id": "7b8c32d7",
   "metadata": {},
   "source": [
    "## Creating ViT Model"
   ]
  },
  {
   "cell_type": "code",
   "execution_count": 21,
   "id": "17b2275f",
   "metadata": {},
   "outputs": [],
   "source": [
    "import torchvision\n",
    " \n",
    "def create_vit_model():\n",
    "    vit_weights = torchvision.models.ViT_B_16_Weights.DEFAULT\n",
    "    \n",
    "    # creating transform\n",
    "    vit_transform = vit_weights.transforms()\n",
    "    \n",
    "    # create model\n",
    "    vit = torchvision.models.vit_b_16(weights=vit_weights)\n",
    "    \n",
    "    # freeze all layers\n",
    "    for param in vit.parameters():\n",
    "        param.requires_grad = False\n",
    "        \n",
    "    # change the output layer\n",
    "    vit.heads = nn.Linear(in_features=768,\n",
    "                          out_features=len(class_names))\n",
    "    \n",
    "    return vit, vit_transform"
   ]
  },
  {
   "cell_type": "code",
   "execution_count": 22,
   "id": "7a211c53",
   "metadata": {},
   "outputs": [
    {
     "data": {
      "text/plain": [
       "================================================================================================================================================================\n",
       "Layer (type (var_name))                                      Input Shape               Output Shape              Param #                   Trainable\n",
       "================================================================================================================================================================\n",
       "VisionTransformer (VisionTransformer)                        [32, 3, 224, 224]         [32, 3]                   768                       Partial\n",
       "├─Conv2d (conv_proj)                                         [32, 3, 224, 224]         [32, 768, 14, 14]         (590,592)                 False\n",
       "├─Encoder (encoder)                                          [32, 197, 768]            [32, 197, 768]            151,296                   False\n",
       "│    └─Dropout (dropout)                                     [32, 197, 768]            [32, 197, 768]            --                        --\n",
       "│    └─Sequential (layers)                                   [32, 197, 768]            [32, 197, 768]            --                        False\n",
       "│    │    └─EncoderBlock (encoder_layer_0)                   [32, 197, 768]            [32, 197, 768]            (7,087,872)               False\n",
       "│    │    └─EncoderBlock (encoder_layer_1)                   [32, 197, 768]            [32, 197, 768]            (7,087,872)               False\n",
       "│    │    └─EncoderBlock (encoder_layer_2)                   [32, 197, 768]            [32, 197, 768]            (7,087,872)               False\n",
       "│    │    └─EncoderBlock (encoder_layer_3)                   [32, 197, 768]            [32, 197, 768]            (7,087,872)               False\n",
       "│    │    └─EncoderBlock (encoder_layer_4)                   [32, 197, 768]            [32, 197, 768]            (7,087,872)               False\n",
       "│    │    └─EncoderBlock (encoder_layer_5)                   [32, 197, 768]            [32, 197, 768]            (7,087,872)               False\n",
       "│    │    └─EncoderBlock (encoder_layer_6)                   [32, 197, 768]            [32, 197, 768]            (7,087,872)               False\n",
       "│    │    └─EncoderBlock (encoder_layer_7)                   [32, 197, 768]            [32, 197, 768]            (7,087,872)               False\n",
       "│    │    └─EncoderBlock (encoder_layer_8)                   [32, 197, 768]            [32, 197, 768]            (7,087,872)               False\n",
       "│    │    └─EncoderBlock (encoder_layer_9)                   [32, 197, 768]            [32, 197, 768]            (7,087,872)               False\n",
       "│    │    └─EncoderBlock (encoder_layer_10)                  [32, 197, 768]            [32, 197, 768]            (7,087,872)               False\n",
       "│    │    └─EncoderBlock (encoder_layer_11)                  [32, 197, 768]            [32, 197, 768]            (7,087,872)               False\n",
       "│    └─LayerNorm (ln)                                        [32, 197, 768]            [32, 197, 768]            (1,536)                   False\n",
       "├─Linear (heads)                                             [32, 768]                 [32, 3]                   2,307                     True\n",
       "================================================================================================================================================================\n",
       "Total params: 85,800,963\n",
       "Trainable params: 2,307\n",
       "Non-trainable params: 85,798,656\n",
       "Total mult-adds (G): 5.52\n",
       "================================================================================================================================================================\n",
       "Input size (MB): 19.27\n",
       "Forward/backward pass size (MB): 3330.74\n",
       "Params size (MB): 229.20\n",
       "Estimated Total Size (MB): 3579.21\n",
       "================================================================================================================================================================"
      ]
     },
     "execution_count": 22,
     "metadata": {},
     "output_type": "execute_result"
    }
   ],
   "source": [
    "vit, vit_transform = create_vit_model()\n",
    "\n",
    "# printing summary\n",
    "summary(vit,\n",
    "        input_size=(32, 3, 224, 224),\n",
    "        col_names=[\"input_size\", \"output_size\", \"num_params\", \"trainable\"],\n",
    "        row_settings=[\"var_names\"])"
   ]
  },
  {
   "cell_type": "code",
   "execution_count": 23,
   "id": "7e777c1c",
   "metadata": {},
   "outputs": [
    {
     "data": {
      "text/plain": [
       "(15, 5)"
      ]
     },
     "execution_count": 23,
     "metadata": {},
     "output_type": "execute_result"
    }
   ],
   "source": [
    "train_dataloader_vit, test_dataloader_vit, class_names = data_setup.create_dataloaders(train_dir=train_dir,\n",
    "                                                                                       test_dir=test_dir,\n",
    "                                                                                       transform=vit_transform,\n",
    "                                                                                       batch_size=32)\n",
    "\n",
    "len(train_dataloader_vit), len(test_dataloader_vit)"
   ]
  },
  {
   "cell_type": "code",
   "execution_count": 24,
   "id": "84ca5e24",
   "metadata": {},
   "outputs": [
    {
     "name": "stdout",
     "output_type": "stream",
     "text": [
      "Epoch:0\tTrain_Loss:0.6279\tTrain_Acc:77.5000\tTest_Loss:0.2478\tTest_Acc:95.9659\n",
      "Epoch:1\tTrain_Loss:0.2120\tTrain_Acc:94.5833\tTest_Loss:0.1239\tTest_Acc:99.3750\n",
      "Epoch:2\tTrain_Loss:0.1471\tTrain_Acc:95.6250\tTest_Loss:0.0967\tTest_Acc:98.7500\n",
      "Epoch:3\tTrain_Loss:0.1206\tTrain_Acc:96.8750\tTest_Loss:0.0826\tTest_Acc:99.3750\n",
      "Epoch:4\tTrain_Loss:0.1012\tTrain_Acc:97.2917\tTest_Loss:0.0733\tTest_Acc:98.7500\n",
      "Epoch:5\tTrain_Loss:0.0864\tTrain_Acc:97.7083\tTest_Loss:0.0681\tTest_Acc:99.3750\n",
      "Epoch:6\tTrain_Loss:0.0742\tTrain_Acc:98.1250\tTest_Loss:0.0645\tTest_Acc:100.0000\n",
      "Epoch:7\tTrain_Loss:0.0672\tTrain_Acc:98.1250\tTest_Loss:0.0616\tTest_Acc:98.7500\n",
      "Epoch:8\tTrain_Loss:0.0577\tTrain_Acc:99.1667\tTest_Loss:0.0571\tTest_Acc:98.1250\n",
      "Epoch:9\tTrain_Loss:0.0497\tTrain_Acc:99.3750\tTest_Loss:0.0546\tTest_Acc:98.1250\n"
     ]
    }
   ],
   "source": [
    "# training the model\n",
    "from going_modular import engine\n",
    "\n",
    "# setting up loss_fn and optimizer\n",
    "loss_fn = nn.CrossEntropyLoss()\n",
    "optimizer = torch.optim.Adam(params=vit.parameters(), lr=0.001)\n",
    "\n",
    "vit_results = engine.train(model=vit,\n",
    "                                train_dataloader=train_dataloader_vit, \n",
    "                                test_dataloader=test_dataloader_vit,\n",
    "                                loss_fn=loss_fn,\n",
    "                                optimizer=optimizer,\n",
    "                                device=device,\n",
    "                                epochs=10)"
   ]
  },
  {
   "cell_type": "code",
   "execution_count": 25,
   "id": "6739b580",
   "metadata": {},
   "outputs": [
    {
     "data": {
      "image/png": "[encoded data removed]",
      "text/plain": [
       "<Figure size 1500x700 with 2 Axes>"
      ]
     },
     "metadata": {},
     "output_type": "display_data"
    }
   ],
   "source": [
    "plot_loss_curve(vit_results)"
   ]
  },
  {
   "cell_type": "code",
   "execution_count": 26,
   "id": "439f5cea",
   "metadata": {},
   "outputs": [
    {
     "name": "stdout",
     "output_type": "stream",
     "text": [
      "[INFO] Saving model to: models/pretrained_vit_feature_extractor.pth\n"
     ]
    }
   ],
   "source": [
    "# saving the model\n",
    "from going_modular import utils\n",
    "utils.save_model(model=vit,\n",
    "                 target_dir=\"models\",\n",
    "                 model_name=\"pretrained_vit_feature_extractor.pth\")"
   ]
  },
  {
   "cell_type": "code",
   "execution_count": 27,
   "id": "7325ec6b",
   "metadata": {},
   "outputs": [
    {
     "name": "stdout",
     "output_type": "stream",
     "text": [
      "EffnetB2_Model_Size: 327.36 MB\n"
     ]
    }
   ],
   "source": [
    "from pathlib import Path\n",
    "vit_size = round(Path(\"models/pretrained_vit_feature_extractor.pth\").stat().st_size / (1024*1024), 2)\n",
    "print(f\"EffnetB2_Model_Size: {vit_size :.2f} MB\")"
   ]
  },
  {
   "cell_type": "code",
   "execution_count": 28,
   "id": "4288209f",
   "metadata": {},
   "outputs": [
    {
     "data": {
      "text/plain": [
       "{'test_loss': 0.05460436479188502,\n",
       " 'test_acc': 98.125,\n",
       " 'num_parameters': 85800963,\n",
       " 'model_size (MB)': 327.36}"
      ]
     },
     "execution_count": 28,
     "metadata": {},
     "output_type": "execute_result"
    }
   ],
   "source": [
    "# count no of parameter in EffnetB2\n",
    "vit_total_params = sum(torch.numel(param) for param in vit.parameters())\n",
    "\n",
    "# create a stat dictionary to compare the two models later\n",
    "vit_stat = {\"test_loss\": vit_results[\"test_loss\"][-1],\n",
    "                 \"test_acc\": vit_results[\"test_acc\"][-1],\n",
    "                 \"num_parameters\": vit_total_params,\n",
    "                 \"model_size (MB)\": vit_size}\n",
    "\n",
    "vit_stat"
   ]
  },
  {
   "cell_type": "markdown",
   "id": "a04e3daa",
   "metadata": {},
   "source": [
    "__Creating a Func to Measure the time needed to predict__"
   ]
  },
  {
   "cell_type": "code",
   "execution_count": 29,
   "id": "5c096fc1",
   "metadata": {},
   "outputs": [
    {
     "name": "stderr",
     "output_type": "stream",
     "text": [
      "/Users/pratikkadlak/Library/Python/3.9/lib/python/site-packages/tqdm/auto.py:21: TqdmWarning: IProgress not found. Please update jupyter and ipywidgets. See https://ipywidgets.readthedocs.io/en/stable/user_install.html\n",
      "  from .autonotebook import tqdm as notebook_tqdm\n"
     ]
    }
   ],
   "source": [
    "import pathlib\n",
    "from tqdm.auto import tqdm\n",
    "from pathlib import Path\n",
    "from PIL import Image\n",
    "from typing import List, Dict\n",
    "from timeit import default_timer as timer\n",
    "\n",
    "def pred_and_store(paths: List[pathlib.Path],\n",
    "                   model: torch.nn.Module,\n",
    "                   transform: torchvision.transforms,\n",
    "                   class_names: List[str],\n",
    "                   device: str = device) -> List[Dict]:\n",
    "    # create an empty list (can return a full list of all predictions later)\n",
    "    pred_list = []\n",
    "    \n",
    "    # sending model to correct device\n",
    "    model = model.to(device)\n",
    "    \n",
    "    # loop through the target input paths\n",
    "    for path in tqdm(paths):\n",
    "        # create an empty dict for each sample (predictions stats will go in this dict)\n",
    "        pred_dict = {}\n",
    "        \n",
    "        # get the sample path and ground truth class from the filepath.\n",
    "        pred_dict[\"image_path\"] = path\n",
    "        class_name = path.parent.stem\n",
    "        pred_dict[\"class_names\"] = class_name\n",
    "        \n",
    "        # now start the prediction timer\n",
    "        start_time = timer()\n",
    "        \n",
    "        # open the image\n",
    "        img = Image.open(path)\n",
    "        \n",
    "        # transform the image\n",
    "        transformed_img = transform(img).unsqueeze(0).to(device) # adding a batch dim\n",
    "        \n",
    "        # make prediction\n",
    "        model.eval()\n",
    "        with torch.inference_mode():\n",
    "            pred_logit = model(transformed_img)\n",
    "            pred_prob = torch.softmax(pred_logit, dim=1) # turn raw logits to probability dist\n",
    "            pred_label = torch.argmax(pred_prob, dim=1) # turn the dist to label\n",
    "            pred_class = class_names[pred_label.cpu()]\n",
    "            \n",
    "        # add pred_prob + pred_class to empty dict\n",
    "        pred_dict[\"pred_prob\"] = round(pred_prob.unsqueeze(0).max().cpu().item(), 4)\n",
    "        pred_class = pred_class\n",
    "        \n",
    "        # stop the timer\n",
    "        end_time = timer()\n",
    "        \n",
    "        # calc total time\n",
    "        pred_dict[\"time_for_pred\"] = round(end_time-start_time, 4)\n",
    "        \n",
    "        # if out perdiciton is correct\n",
    "        pred_dict[\"correct\"] = class_name == pred_class\n",
    "        \n",
    "        # append the dict to the pred_list\n",
    "        pred_list.append(pred_dict)\n",
    "        \n",
    "    return pred_list"
   ]
  },
  {
   "cell_type": "code",
   "execution_count": 30,
   "id": "2e93a1a3",
   "metadata": {},
   "outputs": [],
   "source": [
    "# get all test data paths\n",
    "test_data_paths = list(Path(test_dir).glob(\"*/*.jpg\"))"
   ]
  },
  {
   "cell_type": "markdown",
   "id": "4124f2b8",
   "metadata": {},
   "source": [
    "#### making predictions with effnetb2"
   ]
  },
  {
   "cell_type": "code",
   "execution_count": 31,
   "id": "4bbcea8c",
   "metadata": {},
   "outputs": [
    {
     "name": "stderr",
     "output_type": "stream",
     "text": [
      "100%|██████████| 150/150 [00:20<00:00,  7.27it/s]\n"
     ]
    },
    {
     "data": {
      "text/plain": [
       "[{'image_path': PosixPath('going_modular/data/test/steak/413497.jpg'),\n",
       "  'class_names': 'steak',\n",
       "  'pred_prob': 0.9551,\n",
       "  'time_for_pred': 0.2307,\n",
       "  'correct': True},\n",
       " {'image_path': PosixPath('going_modular/data/test/steak/2246332.jpg'),\n",
       "  'class_names': 'steak',\n",
       "  'pred_prob': 0.8902,\n",
       "  'time_for_pred': 0.2057,\n",
       "  'correct': True}]"
      ]
     },
     "execution_count": 31,
     "metadata": {},
     "output_type": "execute_result"
    }
   ],
   "source": [
    "effnetb2_test_pred_dicts = pred_and_store(paths=test_data_paths,\n",
    "                                          model=effnetb2,\n",
    "                                          transform=effnetb2_transform,\n",
    "                                          class_names=class_names,\n",
    "                                          device=\"cpu\") # because not everywhere we get GPU\n",
    "\n",
    "effnetb2_test_pred_dicts[:2]"
   ]
  },
  {
   "cell_type": "code",
   "execution_count": 32,
   "id": "cfff5085",
   "metadata": {},
   "outputs": [
    {
     "data": {
      "text/html": [
       "<div>\n",
       "<style scoped>\n",
       "    .dataframe tbody tr th:only-of-type {\n",
       "        vertical-align: middle;\n",
       "    }\n",
       "\n",
       "    .dataframe tbody tr th {\n",
       "        vertical-align: top;\n",
       "    }\n",
       "\n",
       "    .dataframe thead th {\n",
       "        text-align: right;\n",
       "    }\n",
       "</style>\n",
       "<table border=\"1\" class=\"dataframe\">\n",
       "  <thead>\n",
       "    <tr style=\"text-align: right;\">\n",
       "      <th></th>\n",
       "      <th>image_path</th>\n",
       "      <th>class_names</th>\n",
       "      <th>pred_prob</th>\n",
       "      <th>time_for_pred</th>\n",
       "      <th>correct</th>\n",
       "    </tr>\n",
       "  </thead>\n",
       "  <tbody>\n",
       "    <tr>\n",
       "      <th>0</th>\n",
       "      <td>going_modular/data/test/steak/413497.jpg</td>\n",
       "      <td>steak</td>\n",
       "      <td>0.9551</td>\n",
       "      <td>0.2307</td>\n",
       "      <td>True</td>\n",
       "    </tr>\n",
       "    <tr>\n",
       "      <th>1</th>\n",
       "      <td>going_modular/data/test/steak/2246332.jpg</td>\n",
       "      <td>steak</td>\n",
       "      <td>0.8902</td>\n",
       "      <td>0.2057</td>\n",
       "      <td>True</td>\n",
       "    </tr>\n",
       "    <tr>\n",
       "      <th>2</th>\n",
       "      <td>going_modular/data/test/steak/2475366.jpg</td>\n",
       "      <td>steak</td>\n",
       "      <td>0.9112</td>\n",
       "      <td>0.1440</td>\n",
       "      <td>True</td>\n",
       "    </tr>\n",
       "    <tr>\n",
       "      <th>3</th>\n",
       "      <td>going_modular/data/test/steak/1982192.jpg</td>\n",
       "      <td>steak</td>\n",
       "      <td>0.7559</td>\n",
       "      <td>0.1498</td>\n",
       "      <td>True</td>\n",
       "    </tr>\n",
       "    <tr>\n",
       "      <th>4</th>\n",
       "      <td>going_modular/data/test/steak/2353677.jpg</td>\n",
       "      <td>steak</td>\n",
       "      <td>0.5306</td>\n",
       "      <td>0.1686</td>\n",
       "      <td>True</td>\n",
       "    </tr>\n",
       "  </tbody>\n",
       "</table>\n",
       "</div>"
      ],
      "text/plain": [
       "                                  image_path class_names  pred_prob  \\\n",
       "0   going_modular/data/test/steak/413497.jpg       steak     0.9551   \n",
       "1  going_modular/data/test/steak/2246332.jpg       steak     0.8902   \n",
       "2  going_modular/data/test/steak/2475366.jpg       steak     0.9112   \n",
       "3  going_modular/data/test/steak/1982192.jpg       steak     0.7559   \n",
       "4  going_modular/data/test/steak/2353677.jpg       steak     0.5306   \n",
       "\n",
       "   time_for_pred  correct  \n",
       "0         0.2307     True  \n",
       "1         0.2057     True  \n",
       "2         0.1440     True  \n",
       "3         0.1498     True  \n",
       "4         0.1686     True  "
      ]
     },
     "execution_count": 32,
     "metadata": {},
     "output_type": "execute_result"
    }
   ],
   "source": [
    "# turn the dict to dataframe\n",
    "import pandas as pd\n",
    "effnetb2_test_pred_df = pd.DataFrame(effnetb2_test_pred_dicts)\n",
    "effnetb2_test_pred_df.head()"
   ]
  },
  {
   "cell_type": "code",
   "execution_count": 33,
   "id": "4bb1dbe1",
   "metadata": {},
   "outputs": [
    {
     "name": "stdout",
     "output_type": "stream",
     "text": [
      "Average Time Per Prediction: 0.1369\n"
     ]
    }
   ],
   "source": [
    "# find the average time per prediction\n",
    "effnetb2_avg_time = round(effnetb2_test_pred_df['time_for_pred'].mean(), 4)\n",
    "\n",
    "# add avg time to effnetb2_stat\n",
    "effnetb2_stat['avg_time'] = effnetb2_avg_time\n",
    "\n",
    "print(f\"Average Time Per Prediction: {effnetb2_avg_time}\")"
   ]
  },
  {
   "cell_type": "markdown",
   "id": "b7cc7d40",
   "metadata": {},
   "source": [
    "#### making predictions with vit"
   ]
  },
  {
   "cell_type": "code",
   "execution_count": 34,
   "id": "8a02d5dc",
   "metadata": {},
   "outputs": [
    {
     "name": "stderr",
     "output_type": "stream",
     "text": [
      "100%|██████████| 150/150 [00:13<00:00, 11.43it/s]\n"
     ]
    },
    {
     "data": {
      "text/plain": [
       "[{'image_path': PosixPath('going_modular/data/test/steak/413497.jpg'),\n",
       "  'class_names': 'steak',\n",
       "  'pred_prob': 0.8527,\n",
       "  'time_for_pred': 0.1139,\n",
       "  'correct': True},\n",
       " {'image_path': PosixPath('going_modular/data/test/steak/2246332.jpg'),\n",
       "  'class_names': 'steak',\n",
       "  'pred_prob': 0.9982,\n",
       "  'time_for_pred': 0.1032,\n",
       "  'correct': True}]"
      ]
     },
     "execution_count": 34,
     "metadata": {},
     "output_type": "execute_result"
    }
   ],
   "source": [
    "vit_test_pred_dicts = pred_and_store(paths=test_data_paths,\n",
    "                                          model=vit,\n",
    "                                          transform=vit_transform,\n",
    "                                          class_names=class_names,\n",
    "                                          device=\"cpu\") # because not everywhere we get GPU\n",
    "\n",
    "vit_test_pred_dicts[:2]"
   ]
  },
  {
   "cell_type": "code",
   "execution_count": 35,
   "id": "022d9d4d",
   "metadata": {},
   "outputs": [
    {
     "data": {
      "text/html": [
       "<div>\n",
       "<style scoped>\n",
       "    .dataframe tbody tr th:only-of-type {\n",
       "        vertical-align: middle;\n",
       "    }\n",
       "\n",
       "    .dataframe tbody tr th {\n",
       "        vertical-align: top;\n",
       "    }\n",
       "\n",
       "    .dataframe thead th {\n",
       "        text-align: right;\n",
       "    }\n",
       "</style>\n",
       "<table border=\"1\" class=\"dataframe\">\n",
       "  <thead>\n",
       "    <tr style=\"text-align: right;\">\n",
       "      <th></th>\n",
       "      <th>image_path</th>\n",
       "      <th>class_names</th>\n",
       "      <th>pred_prob</th>\n",
       "      <th>time_for_pred</th>\n",
       "      <th>correct</th>\n",
       "    </tr>\n",
       "  </thead>\n",
       "  <tbody>\n",
       "    <tr>\n",
       "      <th>0</th>\n",
       "      <td>going_modular/data/test/steak/413497.jpg</td>\n",
       "      <td>steak</td>\n",
       "      <td>0.8527</td>\n",
       "      <td>0.1139</td>\n",
       "      <td>True</td>\n",
       "    </tr>\n",
       "    <tr>\n",
       "      <th>1</th>\n",
       "      <td>going_modular/data/test/steak/2246332.jpg</td>\n",
       "      <td>steak</td>\n",
       "      <td>0.9982</td>\n",
       "      <td>0.1032</td>\n",
       "      <td>True</td>\n",
       "    </tr>\n",
       "    <tr>\n",
       "      <th>2</th>\n",
       "      <td>going_modular/data/test/steak/2475366.jpg</td>\n",
       "      <td>steak</td>\n",
       "      <td>0.9972</td>\n",
       "      <td>0.0910</td>\n",
       "      <td>True</td>\n",
       "    </tr>\n",
       "    <tr>\n",
       "      <th>3</th>\n",
       "      <td>going_modular/data/test/steak/1982192.jpg</td>\n",
       "      <td>steak</td>\n",
       "      <td>0.9924</td>\n",
       "      <td>0.0905</td>\n",
       "      <td>True</td>\n",
       "    </tr>\n",
       "    <tr>\n",
       "      <th>4</th>\n",
       "      <td>going_modular/data/test/steak/2353677.jpg</td>\n",
       "      <td>steak</td>\n",
       "      <td>0.9635</td>\n",
       "      <td>0.0868</td>\n",
       "      <td>True</td>\n",
       "    </tr>\n",
       "  </tbody>\n",
       "</table>\n",
       "</div>"
      ],
      "text/plain": [
       "                                  image_path class_names  pred_prob  \\\n",
       "0   going_modular/data/test/steak/413497.jpg       steak     0.8527   \n",
       "1  going_modular/data/test/steak/2246332.jpg       steak     0.9982   \n",
       "2  going_modular/data/test/steak/2475366.jpg       steak     0.9972   \n",
       "3  going_modular/data/test/steak/1982192.jpg       steak     0.9924   \n",
       "4  going_modular/data/test/steak/2353677.jpg       steak     0.9635   \n",
       "\n",
       "   time_for_pred  correct  \n",
       "0         0.1139     True  \n",
       "1         0.1032     True  \n",
       "2         0.0910     True  \n",
       "3         0.0905     True  \n",
       "4         0.0868     True  "
      ]
     },
     "execution_count": 35,
     "metadata": {},
     "output_type": "execute_result"
    }
   ],
   "source": [
    "# turn the dict to dataframe\n",
    "import pandas as pd\n",
    "vit_test_pred_df = pd.DataFrame(vit_test_pred_dicts)\n",
    "vit_test_pred_df.head()"
   ]
  },
  {
   "cell_type": "code",
   "execution_count": 36,
   "id": "bf590661",
   "metadata": {},
   "outputs": [
    {
     "name": "stdout",
     "output_type": "stream",
     "text": [
      "Average Time Per Prediction: 0.0872\n"
     ]
    }
   ],
   "source": [
    "# find the average time per prediction\n",
    "vit_avg_time = round(vit_test_pred_df['time_for_pred'].mean(), 4)\n",
    "\n",
    "# add avg time to vit_stats\n",
    "vit_stat[\"avg_time\"] = vit_avg_time\n",
    "\n",
    "print(f\"Average Time Per Prediction: {vit_avg_time}\")"
   ]
  },
  {
   "cell_type": "markdown",
   "id": "eb725ce7",
   "metadata": {},
   "source": [
    "__Comparing Results__"
   ]
  },
  {
   "cell_type": "code",
   "execution_count": 37,
   "id": "7c77c9fc",
   "metadata": {},
   "outputs": [
    {
     "data": {
      "text/html": [
       "<div>\n",
       "<style scoped>\n",
       "    .dataframe tbody tr th:only-of-type {\n",
       "        vertical-align: middle;\n",
       "    }\n",
       "\n",
       "    .dataframe tbody tr th {\n",
       "        vertical-align: top;\n",
       "    }\n",
       "\n",
       "    .dataframe thead th {\n",
       "        text-align: right;\n",
       "    }\n",
       "</style>\n",
       "<table border=\"1\" class=\"dataframe\">\n",
       "  <thead>\n",
       "    <tr style=\"text-align: right;\">\n",
       "      <th></th>\n",
       "      <th>test_loss</th>\n",
       "      <th>test_acc</th>\n",
       "      <th>num_parameters</th>\n",
       "      <th>model_size (MB)</th>\n",
       "      <th>avg_time</th>\n",
       "      <th>model</th>\n",
       "    </tr>\n",
       "  </thead>\n",
       "  <tbody>\n",
       "    <tr>\n",
       "      <th>0</th>\n",
       "      <td>0.286618</td>\n",
       "      <td>96.590909</td>\n",
       "      <td>7705221</td>\n",
       "      <td>29.83</td>\n",
       "      <td>0.1369</td>\n",
       "      <td>EffNetB2</td>\n",
       "    </tr>\n",
       "    <tr>\n",
       "      <th>1</th>\n",
       "      <td>0.054604</td>\n",
       "      <td>98.125000</td>\n",
       "      <td>85800963</td>\n",
       "      <td>327.36</td>\n",
       "      <td>0.0872</td>\n",
       "      <td>ViT</td>\n",
       "    </tr>\n",
       "  </tbody>\n",
       "</table>\n",
       "</div>"
      ],
      "text/plain": [
       "   test_loss   test_acc  num_parameters  model_size (MB)  avg_time     model\n",
       "0   0.286618  96.590909         7705221            29.83    0.1369  EffNetB2\n",
       "1   0.054604  98.125000        85800963           327.36    0.0872       ViT"
      ]
     },
     "execution_count": 37,
     "metadata": {},
     "output_type": "execute_result"
    }
   ],
   "source": [
    "# turn stat dicts into df\n",
    "df = pd.DataFrame([effnetb2_stat, vit_stat])\n",
    "\n",
    "# creating an extra col\n",
    "df['model'] = [\"EffNetB2\", \"ViT\"]\n",
    "\n",
    "df"
   ]
  },
  {
   "cell_type": "code",
   "execution_count": 38,
   "id": "3fea9614",
   "metadata": {},
   "outputs": [
    {
     "data": {
      "text/html": [
       "<div>\n",
       "<style scoped>\n",
       "    .dataframe tbody tr th:only-of-type {\n",
       "        vertical-align: middle;\n",
       "    }\n",
       "\n",
       "    .dataframe tbody tr th {\n",
       "        vertical-align: top;\n",
       "    }\n",
       "\n",
       "    .dataframe thead th {\n",
       "        text-align: right;\n",
       "    }\n",
       "</style>\n",
       "<table border=\"1\" class=\"dataframe\">\n",
       "  <thead>\n",
       "    <tr style=\"text-align: right;\">\n",
       "      <th></th>\n",
       "      <th>test_loss</th>\n",
       "      <th>test_acc</th>\n",
       "      <th>num_parameters</th>\n",
       "      <th>model_size (MB)</th>\n",
       "      <th>avg_time</th>\n",
       "    </tr>\n",
       "  </thead>\n",
       "  <tbody>\n",
       "    <tr>\n",
       "      <th>ViT To EffNetB2 ratios</th>\n",
       "      <td>0.190513</td>\n",
       "      <td>1.015882</td>\n",
       "      <td>11.135432</td>\n",
       "      <td>10.974187</td>\n",
       "      <td>0.636961</td>\n",
       "    </tr>\n",
       "  </tbody>\n",
       "</table>\n",
       "</div>"
      ],
      "text/plain": [
       "                        test_loss  test_acc  num_parameters  model_size (MB)  \\\n",
       "ViT To EffNetB2 ratios   0.190513  1.015882       11.135432        10.974187   \n",
       "\n",
       "                        avg_time  \n",
       "ViT To EffNetB2 ratios  0.636961  "
      ]
     },
     "execution_count": 38,
     "metadata": {},
     "output_type": "execute_result"
    }
   ],
   "source": [
    "# comparing ratios\n",
    "pd.DataFrame(data=(df.set_index(\"model\").loc[\"ViT\"] / df.set_index(\"model\").loc['EffNetB2']),\n",
    "             columns=['ViT To EffNetB2 ratios']).T\n",
    "\n",
    "# num of parameters in ViT is 11 times higher than EffnetB2\n",
    "# model size in ViT is also 11 times higher than EffnetB2"
   ]
  },
  {
   "cell_type": "code",
   "execution_count": 40,
   "id": "5b5f8589",
   "metadata": {},
   "outputs": [
    {
     "data": {
      "image/png": "[encoded data removed]",
      "text/plain": [
       "<Figure size 1200x800 with 1 Axes>"
      ]
     },
     "metadata": {},
     "output_type": "display_data"
    }
   ],
   "source": [
    "# visualizing the speed/performance ratio\n",
    "import matplotlib.pyplot as plt\n",
    "fig, ax = plt.subplots(figsize=(12, 8))\n",
    "scatter = ax.scatter(data=df,\n",
    "                     x=\"avg_time\",\n",
    "                     y=\"test_acc\",\n",
    "                     c=[\"blue\", \"orange\"],\n",
    "                     s=\"model_size (MB)\")\n",
    "\n",
    "# add titles and labels\n",
    "ax.set_title(\"FoodVision Mini Inference Speed VS Performance\", fontsize=18)\n",
    "ax.set_xlabel(\"Prediction Time Per Image (secs)\", fontsize=14)\n",
    "ax.set_ylabel(\"Test Accuracy (%)\", fontsize=14)\n",
    "ax.tick_params(axis=\"both\", labelsize=12)\n",
    "ax.grid(True)\n",
    "\n",
    "# annotating the graph\n",
    "for index, row in df.iterrows():\n",
    "    ax.annotate(text=row['model'],\n",
    "                xy=(row['avg_time'], row['test_acc']),\n",
    "                size=12)\n",
    "    \n",
    "# creating legend\n",
    "handles, labels = scatter.legend_elements(prop=\"sizes\", alpha=0.5)\n",
    "model_size_legend = ax.legend(handles, labels, loc=\"upper right\", title=\"Model_Size_(MB)\", fontsize=12)"
   ]
  },
  {
   "cell_type": "markdown",
   "id": "81792620",
   "metadata": {},
   "source": [
    "## Hosting Model In Gradio\n",
    "__Gradio: https://www.gradio.app/__ <br>\n",
    "__Gradio is the fastest way to demo your machine learning model with a friendly web interface so that anyone can use it, anywhere!__"
   ]
  },
  {
   "cell_type": "code",
   "execution_count": 41,
   "id": "e84b8660",
   "metadata": {},
   "outputs": [
    {
     "name": "stdout",
     "output_type": "stream",
     "text": [
      "Gradio Version: 4.37.2\n"
     ]
    }
   ],
   "source": [
    "try:\n",
    "    import gradio as gr\n",
    "except:\n",
    "    !pip3 install gradio\n",
    "    import gradio as gr\n",
    "    \n",
    "print(f\"Gradio Version: {gr.__version__}\")"
   ]
  },
  {
   "cell_type": "code",
   "execution_count": 42,
   "id": "de2fa462",
   "metadata": {},
   "outputs": [],
   "source": [
    "# putting the model to cpu\n",
    "effnetb2 = effnetb2.to(\"cpu\")"
   ]
  },
  {
   "cell_type": "code",
   "execution_count": 50,
   "id": "7e3914d4",
   "metadata": {},
   "outputs": [],
   "source": [
    "# creating a predict() func to go from image -> ml_model(image) -> output\n",
    "from typing import Tuple, Dict\n",
    "import numpy as np\n",
    "\n",
    "def predict(img) -> Tuple[Dict, float]:\n",
    "    if isinstance(img, np.ndarray):\n",
    "        img = Image.fromarray(img)\n",
    "\n",
    "    start_time = timer()\n",
    "    \n",
    "    # transform the image\n",
    "    transformed_img = effnetb2_transform(img).unsqueeze(0)\n",
    "    \n",
    "    # get prediction\n",
    "    effnetb2.eval()\n",
    "    \n",
    "    with torch.inference_mode():\n",
    "        pred_logits = effnetb2(transformed_img)\n",
    "        pred_probs = torch.softmax(pred_logits, dim=1) \n",
    "\n",
    "    # create a prediction label dict \n",
    "    pred_labels_and_probs = {class_names[i]: float(pred_probs[0][i]) for i in range(len(class_names))}\n",
    "    \n",
    "    # end the timer\n",
    "    end_time = timer()\n",
    "    \n",
    "    # calc pred time\n",
    "    pred_time = round(end_time-start_time, 4)\n",
    "    \n",
    "    return pred_labels_and_probs, pred_time"
   ]
  },
  {
   "cell_type": "code",
   "execution_count": 51,
   "id": "9be4dfd3",
   "metadata": {},
   "outputs": [
    {
     "name": "stdout",
     "output_type": "stream",
     "text": [
      "[INFO] Predicting on image at path: going_modular/data/test/pizza/2782998.jpg\n"
     ]
    },
    {
     "data": {
      "text/plain": [
       "({'pizza': 0.6742352247238159,\n",
       "  'steak': 0.2321963757276535,\n",
       "  'sushi': 0.09356839209794998},\n",
       " 0.2164)"
      ]
     },
     "execution_count": 51,
     "metadata": {},
     "output_type": "execute_result"
    }
   ],
   "source": [
    "import random\n",
    "from PIL import Image\n",
    "\n",
    "# get a list of all test images\n",
    "test_data_paths = list(Path(test_dir).glob(\"*/*.jpg\"))\n",
    "\n",
    "# randomly selecting one image\n",
    "random_image_path = random.sample(test_data_paths, k=1)[0]\n",
    "\n",
    "# open the target image\n",
    "image = Image.open(random_image_path)\n",
    "print(f\"[INFO] Predicting on image at path: {random_image_path}\")\n",
    "\n",
    "# using the predict func above\n",
    "pred_dict, pred_time = predict(img=image)\n",
    "\n",
    "pred_dict, pred_time"
   ]
  },
  {
   "cell_type": "markdown",
   "id": "310b5bc5",
   "metadata": {},
   "source": [
    "__Gradio Interface: https://www.gradio.app/docs/gradio/interface__"
   ]
  },
  {
   "cell_type": "code",
   "execution_count": 52,
   "id": "bd563939",
   "metadata": {},
   "outputs": [
    {
     "data": {
      "text/plain": [
       "[['going_modular/data/test/pizza/2398925.jpg'],\n",
       " ['going_modular/data/test/sushi/2274102.jpg'],\n",
       " ['going_modular/data/test/steak/697562.jpg']]"
      ]
     },
     "execution_count": 52,
     "metadata": {},
     "output_type": "execute_result"
    }
   ],
   "source": [
    "# creating a list of demo images to pass to the gradio interface\n",
    "example_list = [[str(filepath)] for filepath in random.sample(test_data_paths, k=3)] \n",
    "example_list"
   ]
  },
  {
   "cell_type": "code",
   "execution_count": 53,
   "id": "e94eca53",
   "metadata": {},
   "outputs": [
    {
     "name": "stdout",
     "output_type": "stream",
     "text": [
      "Running on local URL:  http://127.0.0.1:7861\n",
      "Running on public URL: https://65b27ccb297688f6b4.gradio.live\n",
      "\n",
      "This share link expires in 72 hours. For free permanent hosting and GPU upgrades, run `gradio deploy` from Terminal to deploy to Spaces (https://huggingface.co/spaces)\n"
     ]
    },
    {
     "data": {
      "text/html": [
       "<div><iframe src=\"https://65b27ccb297688f6b4.gradio.live\" width=\"100%\" height=\"500\" allow=\"autoplay; camera; microphone; clipboard-read; clipboard-write;\" frameborder=\"0\" allowfullscreen></iframe></div>"
      ],
      "text/plain": [
       "<IPython.core.display.HTML object>"
      ]
     },
     "metadata": {},
     "output_type": "display_data"
    },
    {
     "name": "stdout",
     "output_type": "stream",
     "text": [
      "Keyboard interruption in main thread... closing server.\n",
      "Killing tunnel 127.0.0.1:7861 <> https://65b27ccb297688f6b4.gradio.live\n"
     ]
    },
    {
     "data": {
      "text/plain": []
     },
     "execution_count": 53,
     "metadata": {},
     "output_type": "execute_result"
    }
   ],
   "source": [
    "title = \"FoodVision Mini 🍕🥩🍣\"\n",
    "description = \"An EfficientNet_B2 feature Extractor\"\n",
    "\n",
    "app = gr.Interface(fn=predict, \n",
    "                   inputs=gr.Image(\"pil\"), \n",
    "                   outputs=[gr.Label(num_top_classes=3, label=\"Predictions\"),\n",
    "                            gr.Number(label=\"Prediction Time (s)\")], \n",
    "                   examples=example_list,\n",
    "                   title=title,\n",
    "                   description=description)\n",
    "app.launch(debug=True,\n",
    "           share=True)"
   ]
  },
  {
   "cell_type": "code",
   "execution_count": null,
   "id": "5506f36d",
   "metadata": {},
   "outputs": [],
   "source": []
  },
  {
   "cell_type": "code",
   "execution_count": null,
   "id": "f5d8de46",
   "metadata": {},
   "outputs": [],
   "source": []
  }
 ],
 "metadata": {
  "kernelspec": {
   "display_name": "Python 3 (ipykernel)",
   "language": "python",
   "name": "python3"
  },
  "language_info": {
   "codemirror_mode": {
    "name": "ipython",
    "version": 3
   },
   "file_extension": ".py",
   "mimetype": "text/x-python",
   "name": "python",
   "nbconvert_exporter": "python",
   "pygments_lexer": "ipython3",
   "version": "3.9.6"
  }
 },
 "nbformat": 4,
 "nbformat_minor": 5
}
