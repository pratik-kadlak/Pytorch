{
 "cells": [
  {
   "cell_type": "markdown",
   "id": "0a813516",
   "metadata": {},
   "source": [
    "This notebook contains the cell version of the code written in the previous section (i.e., Custom Datasets). <br> Our goal is to convert this cell-based code into reusable Python scripts, allowing us to execute the scripts with a single command and reuse them as needed."
   ]
  },
  {
   "cell_type": "code",
   "execution_count": 9,
   "id": "9dde74ea",
   "metadata": {},
   "outputs": [],
   "source": [
    "import numpy as np\n",
    "import torch \n",
    "from torch import nn"
   ]
  },
  {
   "cell_type": "markdown",
   "id": "9f5ff1c5",
   "metadata": {},
   "source": [
    "## Getting Data"
   ]
  },
  {
   "cell_type": "code",
   "execution_count": 2,
   "id": "519203d1",
   "metadata": {},
   "outputs": [
    {
     "name": "stdout",
     "output_type": "stream",
     "text": [
      "data/pizza_steak_sushi does not exist creating one...\n",
      "Downloading pizza, steak, sushi data...\n",
      "Unzipping pizza, steak, sushi data...\n"
     ]
    }
   ],
   "source": [
    "# downloading the data\n",
    "\n",
    "import requests\n",
    "import zipfile\n",
    "from pathlib import Path\n",
    "\n",
    "# setup path to a data folder\n",
    "data_path = Path(\"data/\")\n",
    "image_path = data_path / \"pizza_steak_sushi\"\n",
    "\n",
    "# if the image folder does not exist, download and prepare it ..\n",
    "if image_path.is_dir():\n",
    "    print(f\"{image_path} directory already exists... skipping download\")\n",
    "else:\n",
    "    print(f\"{image_path} does not exist creating one...\")\n",
    "    image_path.mkdir(parents=True, exist_ok=True)\n",
    "\n",
    "    # download data\n",
    "    with open(data_path / \"pizza_steak_sushi.zip\", \"wb\") as f:\n",
    "        request = requests.get(\"https://github.com/mrdbourke/pytorch-deep-learning/raw/main/data/pizza_steak_sushi.zip\")\n",
    "        print(\"Downloading pizza, steak, sushi data...\")\n",
    "        f.write(request.content)\n",
    "\n",
    "    # Unzip pizza, steak, sushi data\n",
    "    with zipfile.ZipFile(data_path / \"pizza_steak_sushi.zip\", \"r\") as zip_ref:\n",
    "        print(\"Unzipping pizza, steak, sushi data...\")\n",
    "        zip_ref.extractall(image_path)"
   ]
  },
  {
   "cell_type": "code",
   "execution_count": 3,
   "id": "1b084ce8",
   "metadata": {},
   "outputs": [
    {
     "data": {
      "text/plain": [
       "(PosixPath('data/pizza_steak_sushi/train'),\n",
       " PosixPath('data/pizza_steak_sushi/test'))"
      ]
     },
     "execution_count": 3,
     "metadata": {},
     "output_type": "execute_result"
    }
   ],
   "source": [
    "# setup train and test paths\n",
    "\n",
    "train_dir = image_path / \"train\"\n",
    "test_dir = image_path / \"test\"\n",
    "\n",
    "train_dir, test_dir"
   ]
  },
  {
   "cell_type": "markdown",
   "id": "50b9bebc",
   "metadata": {},
   "source": [
    "## Creating Datasets And DataLoaders"
   ]
  },
  {
   "cell_type": "code",
   "execution_count": 4,
   "id": "19d5544d",
   "metadata": {},
   "outputs": [
    {
     "data": {
      "text/plain": [
       "(Dataset ImageFolder\n",
       "     Number of datapoints: 225\n",
       "     Root location: data/pizza_steak_sushi/train\n",
       "     StandardTransform\n",
       " Transform: Compose(\n",
       "                Resize(size=(64, 64), interpolation=bilinear, max_size=None, antialias=warn)\n",
       "                ToTensor()\n",
       "            ),\n",
       " Dataset ImageFolder\n",
       "     Number of datapoints: 75\n",
       "     Root location: data/pizza_steak_sushi/test\n",
       "     StandardTransform\n",
       " Transform: Compose(\n",
       "                Resize(size=(64, 64), interpolation=bilinear, max_size=None, antialias=warn)\n",
       "                ToTensor()\n",
       "            ))"
      ]
     },
     "execution_count": 4,
     "metadata": {},
     "output_type": "execute_result"
    }
   ],
   "source": [
    "from torch.utils.data import DataLoader\n",
    "from torchvision import datasets, transforms\n",
    "\n",
    "data_transform = transforms.Compose([\n",
    "    transforms.Resize(size=(64, 64)), # resizes image to 64x64\n",
    "    transforms.ToTensor() # turn the image into torch.Tensor\n",
    "])\n",
    "\n",
    "\n",
    "train_data = datasets.ImageFolder(root=train_dir,\n",
    "                                  transform=data_transform, # transform for the data\n",
    "                                  target_transform=None) # transform for the label/target\n",
    "\n",
    "test_data = datasets.ImageFolder(root=test_dir,\n",
    "                                 transform=data_transform)\n",
    "\n",
    "train_data, test_data"
   ]
  },
  {
   "cell_type": "code",
   "execution_count": 5,
   "id": "6dbcc6fa",
   "metadata": {},
   "outputs": [
    {
     "data": {
      "text/plain": [
       "(['pizza', 'steak', 'sushi'], {'pizza': 0, 'steak': 1, 'sushi': 2})"
      ]
     },
     "execution_count": 5,
     "metadata": {},
     "output_type": "execute_result"
    }
   ],
   "source": [
    "# get class names as list\n",
    "class_names = train_data.classes\n",
    "\n",
    "# get class names as dict\n",
    "class_dict = train_data.class_to_idx\n",
    "\n",
    "class_names, class_dict"
   ]
  },
  {
   "cell_type": "code",
   "execution_count": 6,
   "id": "e14741ad",
   "metadata": {},
   "outputs": [
    {
     "data": {
      "text/plain": [
       "(225, 75)"
      ]
     },
     "execution_count": 6,
     "metadata": {},
     "output_type": "execute_result"
    }
   ],
   "source": [
    "# creating dataloaders\n",
    "\n",
    "train_dataloader = DataLoader(train_data, batch_size=1, shuffle=True)\n",
    "test_dataloader = DataLoader(test_data, batch_size=1, shuffle=False)\n",
    "\n",
    "len(train_dataloader), len(test_dataloader)"
   ]
  },
  {
   "cell_type": "code",
   "execution_count": 7,
   "id": "07ad9ebf",
   "metadata": {},
   "outputs": [
    {
     "name": "stdout",
     "output_type": "stream",
     "text": [
      "Image Shape: torch.Size([1, 3, 64, 64]) -> [batch_size, color_channels, height, width]\n",
      "Label Shape: torch.Size([1])\n"
     ]
    }
   ],
   "source": [
    "# iterating through the data loader\n",
    "img, label = next(iter(train_dataloader))\n",
    "\n",
    "print(f\"Image Shape: {img.shape} -> [batch_size, color_channels, height, width]\")\n",
    "print(f\"Label Shape: {label.shape}\")"
   ]
  },
  {
   "cell_type": "markdown",
   "id": "018a1916",
   "metadata": {},
   "source": [
    "## Building a Model"
   ]
  },
  {
   "cell_type": "code",
   "execution_count": 10,
   "id": "fc7add21",
   "metadata": {},
   "outputs": [],
   "source": [
    "class TinyVGG(nn.Module):\n",
    "    def __init__(self, input_shape, hidden_units, output_shape):\n",
    "        super().__init__()\n",
    "        self.conv_block_1 = nn.Sequential(\n",
    "            nn.Conv2d(in_channels=input_shape,\n",
    "                      out_channels=hidden_units,\n",
    "                      kernel_size=3,\n",
    "                      stride=1,\n",
    "                      padding=0\n",
    "            ),\n",
    "            nn.ReLU(),\n",
    "            nn.Conv2d(in_channels=hidden_units,\n",
    "                      out_channels=hidden_units,\n",
    "                      kernel_size=3,\n",
    "                      stride=1,\n",
    "                      padding=0\n",
    "            ),\n",
    "            nn.ReLU(),\n",
    "            nn.MaxPool2d(kernel_size=2, stride=2)\n",
    "        )\n",
    "        self.conv_block_2 = nn.Sequential(\n",
    "            nn.Conv2d(in_channels=hidden_units,\n",
    "                      out_channels=hidden_units,\n",
    "                      kernel_size=3,\n",
    "                      stride=1,\n",
    "                      padding=0\n",
    "            ),\n",
    "            nn.ReLU(),\n",
    "            nn.Conv2d(in_channels=hidden_units,\n",
    "                      out_channels=hidden_units,\n",
    "                      kernel_size=3,\n",
    "                      stride=1,\n",
    "                      padding=0\n",
    "            ),\n",
    "            nn.ReLU(),\n",
    "            nn.MaxPool2d(kernel_size=2, stride=2)\n",
    "        )\n",
    "        self.fc = nn.Sequential(\n",
    "            nn.Flatten(),\n",
    "            nn.Linear(in_features=hidden_units*13*13,\n",
    "                      out_features=output_shape)\n",
    "        )\n",
    "\n",
    "    def forward(self, x):\n",
    "        x = self.conv_block_1(x)\n",
    "        x = self.conv_block_2(x)\n",
    "        return self.fc(x)"
   ]
  },
  {
   "cell_type": "code",
   "execution_count": 11,
   "id": "5f1d87fa",
   "metadata": {},
   "outputs": [
    {
     "data": {
      "text/plain": [
       "TinyVGG(\n",
       "  (conv_block_1): Sequential(\n",
       "    (0): Conv2d(3, 10, kernel_size=(3, 3), stride=(1, 1))\n",
       "    (1): ReLU()\n",
       "    (2): Conv2d(10, 10, kernel_size=(3, 3), stride=(1, 1))\n",
       "    (3): ReLU()\n",
       "    (4): MaxPool2d(kernel_size=2, stride=2, padding=0, dilation=1, ceil_mode=False)\n",
       "  )\n",
       "  (conv_block_2): Sequential(\n",
       "    (0): Conv2d(10, 10, kernel_size=(3, 3), stride=(1, 1))\n",
       "    (1): ReLU()\n",
       "    (2): Conv2d(10, 10, kernel_size=(3, 3), stride=(1, 1))\n",
       "    (3): ReLU()\n",
       "    (4): MaxPool2d(kernel_size=2, stride=2, padding=0, dilation=1, ceil_mode=False)\n",
       "  )\n",
       "  (fc): Sequential(\n",
       "    (0): Flatten(start_dim=1, end_dim=-1)\n",
       "    (1): Linear(in_features=1690, out_features=3, bias=True)\n",
       "  )\n",
       ")"
      ]
     },
     "execution_count": 11,
     "metadata": {},
     "output_type": "execute_result"
    }
   ],
   "source": [
    "torch.manual_seed(42)\n",
    "torch.mps.manual_seed(42)\n",
    "\n",
    "device = \"mps\" if torch.backends.mps.is_available() else \"cpu\"\n",
    "device = \"cuda\" if torch.cuda.is_available() else \"cpu\"\n",
    "\n",
    "model_0 = TinyVGG(input_shape=3, hidden_units=10, output_shape=len(class_names)).to(device)\n",
    "model_0"
   ]
  },
  {
   "cell_type": "code",
   "execution_count": 12,
   "id": "a551d5b9",
   "metadata": {},
   "outputs": [
    {
     "name": "stdout",
     "output_type": "stream",
     "text": [
      "Single image shape: torch.Size([1, 3, 64, 64])\n",
      "\n",
      "Output logits:\n",
      "tensor([[ 0.0208, -0.0019,  0.0095]])\n",
      "\n",
      "Output prediction probabilities:\n",
      "tensor([[0.3371, 0.3295, 0.3333]])\n",
      "\n",
      "Output prediction label:\n",
      "tensor([0])\n",
      "\n",
      "Actual label:\n",
      "0\n"
     ]
    }
   ],
   "source": [
    "# to test the model lets do a single pass of our model\n",
    "\n",
    "# 1. Get a batch of images and labels from the DataLoader\n",
    "img_batch, label_batch = next(iter(train_dataloader))\n",
    "\n",
    "# 2. Get a single image from the batch and unsqueeze the image so its shape fits the model\n",
    "img_single, label_single = img_batch[0].unsqueeze(dim=0), label_batch[0]\n",
    "print(f\"Single image shape: {img_single.shape}\\n\")\n",
    "\n",
    "# 3. Perform a forward pass on a single image\n",
    "model_0.eval()\n",
    "with torch.inference_mode():\n",
    "    pred = model_0(img_single.to(device))\n",
    "    \n",
    "# 4. Print out what's happening and convert model logits -> pred probs -> pred label\n",
    "print(f\"Output logits:\\n{pred}\\n\")\n",
    "print(f\"Output prediction probabilities:\\n{torch.softmax(pred, dim=1)}\\n\")\n",
    "print(f\"Output prediction label:\\n{torch.argmax(torch.softmax(pred, dim=1), dim=1)}\\n\")\n",
    "print(f\"Actual label:\\n{label_single}\")"
   ]
  },
  {
   "cell_type": "markdown",
   "id": "cd069408",
   "metadata": {},
   "source": [
    "## Creating train_step() and test_step() and train()"
   ]
  },
  {
   "cell_type": "code",
   "execution_count": 13,
   "id": "077630ff",
   "metadata": {},
   "outputs": [],
   "source": [
    "# func to calc accuracy\n",
    "def accuracy_fn(y_true, y_pred):\n",
    "    correct = torch.eq(y_true, y_pred).sum().item()\n",
    "    return (correct/len(y_true)) * 100"
   ]
  },
  {
   "cell_type": "code",
   "execution_count": 14,
   "id": "97529a5d",
   "metadata": {},
   "outputs": [],
   "source": [
    "# train step functions\n",
    "def train_step(model: torch.nn.Module,\n",
    "               dataloader: torch.utils.data.DataLoader,\n",
    "               loss_fn: torch.nn.Module,\n",
    "               optimizer: torch.optim.Optimizer):\n",
    "    # put the model in train mode\n",
    "    model.train()\n",
    "\n",
    "    train_loss, train_acc = 0, 0\n",
    "\n",
    "    for X_train, y_train in dataloader:\n",
    "        # sending data to target device\n",
    "        X_train = X_train.to(device)\n",
    "        y_train = y_train.to(device)\n",
    "\n",
    "        # forward pass\n",
    "        y_logits = model(X_train)\n",
    "\n",
    "        # calc loss, acc\n",
    "        loss = loss_fn(y_logits, y_train)\n",
    "        train_loss += loss.item()\n",
    "        train_acc += accuracy_fn(y_train, torch.argmax(torch.softmax(y_logits, dim=1), dim=1))\n",
    "\n",
    "        # optimizer zero grad\n",
    "        optimizer.zero_grad()\n",
    "\n",
    "        # loss backwards\n",
    "        loss.backward()\n",
    "\n",
    "        # optimizer step\n",
    "        optimizer.step()\n",
    "\n",
    "    train_loss /= len(dataloader)\n",
    "    train_acc /= len(dataloader)\n",
    "\n",
    "    return train_loss, train_acc"
   ]
  },
  {
   "cell_type": "code",
   "execution_count": 15,
   "id": "35e97b57",
   "metadata": {},
   "outputs": [],
   "source": [
    "# test step function\n",
    "def test_step(model:torch.nn.Module,\n",
    "              dataloader: torch.utils.data.DataLoader,\n",
    "              loss_fn: nn.Module):\n",
    "    test_loss, test_acc = 0, 0\n",
    "    # set model on eval mode\n",
    "    model.eval()\n",
    "    with torch.inference_mode():\n",
    "        for X_test, y_test in dataloader:\n",
    "            # sending data to target device\n",
    "            X_test, y_test = X_test.to(device), y_test.to(device)\n",
    "\n",
    "            # forward pass\n",
    "            y_logits = model(X_test)\n",
    "\n",
    "            # calc loss, acc\n",
    "            test_loss += loss_fn(y_logits, y_test).item()\n",
    "            test_acc += accuracy_fn(y_test, torch.argmax(torch.softmax(y_logits, dim=1), dim=1))\n",
    "\n",
    "    test_loss /= len(dataloader)\n",
    "    test_acc /= len(dataloader)\n",
    "\n",
    "    return test_loss, test_acc"
   ]
  },
  {
   "cell_type": "code",
   "execution_count": 21,
   "id": "1f10911d",
   "metadata": {},
   "outputs": [],
   "source": [
    "# train function for training he model\n",
    "\n",
    "from typing import Dict, List\n",
    "from tqdm.auto import tqdm\n",
    "\n",
    "def train(model: nn.Module,\n",
    "          train_dataloader: torch.utils.data.DataLoader,\n",
    "          test_dataloader: torch.utils.data.DataLoader,\n",
    "          loss_fn: nn.Module,\n",
    "          optimizer: torch.optim.Optimizer,\n",
    "          epochs: int = 5):\n",
    "\n",
    "    # creating a empty result dictionary\n",
    "    results = {\n",
    "        \"train_loss\": [],\n",
    "        \"train_acc\": [],\n",
    "        \"test_loss\": [],\n",
    "        \"test_acc\": []\n",
    "    }\n",
    "\n",
    "    for epoch in tqdm(range(epochs)):\n",
    "        train_loss, train_acc = train_step(model_0, train_dataloader, loss_fn, optimizer)\n",
    "        test_loss, test_acc = test_step(model_0, test_dataloader, loss_fn)\n",
    "        print(f\"Epoch:{epoch}\\tTrain_Loss:{train_loss:.4f}\\tTrain_Acc:{train_acc:.4f}\\tTest_Loss:{test_loss:.4f}\\tTest_Acc:{test_acc:.4f}\")\n",
    "\n",
    "        # update results dictionary\n",
    "        results[\"train_loss\"].append(train_loss)\n",
    "        results[\"train_acc\"].append(train_acc)\n",
    "        results[\"test_loss\"].append(test_loss)\n",
    "        results[\"test_acc\"].append(test_acc)\n",
    "\n",
    "    return results"
   ]
  },
  {
   "cell_type": "markdown",
   "id": "fd196167",
   "metadata": {},
   "source": [
    "## Creating function to Save model"
   ]
  },
  {
   "cell_type": "code",
   "execution_count": 22,
   "id": "087310ca",
   "metadata": {},
   "outputs": [],
   "source": [
    "from pathlib import Path\n",
    "\n",
    "def save_model(model: torch.nn.Module,\n",
    "               target_dir: str,\n",
    "               model_name: str):\n",
    "    \n",
    "    \n",
    "    # Create target directory\n",
    "    target_dir_path = Path(target_dir)\n",
    "    target_dir_path.mkdir(parents=True,\n",
    "                          exist_ok=True)\n",
    "\n",
    "    # Create model save path\n",
    "    assert model_name.endswith(\".pth\") or model_name.endswith(\".pt\"), \"model_name should end with '.pt' or '.pth'\"\n",
    "    model_save_path = target_dir_path / model_name\n",
    "    # Save the model state_dict()\n",
    "    print(f\"[INFO] Saving model to: {model_save_path}\")\n",
    "    torch.save(obj=model.state_dict(),\n",
    "               f=model_save_path)"
   ]
  },
  {
   "cell_type": "markdown",
   "id": "d87d4b6d",
   "metadata": {},
   "source": [
    "## Training And Evaluating Model"
   ]
  },
  {
   "cell_type": "code",
   "execution_count": 23,
   "id": "2300e880",
   "metadata": {},
   "outputs": [
    {
     "data": {
      "application/vnd.jupyter.widget-view+json": {
       "model_id": "d10120328df34342a1cbe898ab6e67a2",
       "version_major": 2,
       "version_minor": 0
      },
      "text/plain": [
       "  0%|          | 0/5 [00:00<?, ?it/s]"
      ]
     },
     "metadata": {},
     "output_type": "display_data"
    },
    {
     "name": "stdout",
     "output_type": "stream",
     "text": [
      "Epoch:0\tTrain_Loss:1.0898\tTrain_Acc:40.0000\tTest_Loss:1.0590\tTest_Acc:37.3333\n",
      "Epoch:1\tTrain_Loss:1.0113\tTrain_Acc:50.6667\tTest_Loss:0.9919\tTest_Acc:44.0000\n",
      "Epoch:2\tTrain_Loss:0.9729\tTrain_Acc:52.8889\tTest_Loss:0.9899\tTest_Acc:45.3333\n",
      "Epoch:3\tTrain_Loss:0.9062\tTrain_Acc:55.5556\tTest_Loss:0.9868\tTest_Acc:46.6667\n",
      "Epoch:4\tTrain_Loss:0.8960\tTrain_Acc:58.6667\tTest_Loss:1.0116\tTest_Acc:48.0000\n",
      "[INFO] Saving model to: models/cell_mode_tinyvgg_model.pth\n"
     ]
    }
   ],
   "source": [
    "# set random seed\n",
    "torch.manual_seed(42)\n",
    "torch.mps.manual_seed(42)\n",
    "\n",
    "# set number of epochs\n",
    "EPOCHS = 5\n",
    "\n",
    "# recreate an instance of TinyVGG\n",
    "model_0 = TinyVGG(input_shape=3, hidden_units=10, output_shape=len(class_names)).to(device)\n",
    "\n",
    "# seeting up loss function\n",
    "loss_fn = nn.CrossEntropyLoss()\n",
    "\n",
    "# setting up optimizer\n",
    "optimizer = torch.optim.Adam(params=model_0.parameters())\n",
    "\n",
    "model_0_results = train(model_0, train_dataloader, test_dataloader, loss_fn, optimizer, EPOCHS)\n",
    "\n",
    "# Save the model\n",
    "save_model(model=model_0,\n",
    "           target_dir=\"models\",\n",
    "           model_name=\"cell_mode_tinyvgg_model.pth\")"
   ]
  },
  {
   "cell_type": "code",
   "execution_count": null,
   "id": "a600eaf3",
   "metadata": {},
   "outputs": [],
   "source": []
  }
 ],
 "metadata": {
  "kernelspec": {
   "display_name": "Python 3 (ipykernel)",
   "language": "python",
   "name": "python3"
  },
  "language_info": {
   "codemirror_mode": {
    "name": "ipython",
    "version": 3
   },
   "file_extension": ".py",
   "mimetype": "text/x-python",
   "name": "python",
   "nbconvert_exporter": "python",
   "pygments_lexer": "ipython3",
   "version": "3.11.5"
  }
 },
 "nbformat": 4,
 "nbformat_minor": 5
}
