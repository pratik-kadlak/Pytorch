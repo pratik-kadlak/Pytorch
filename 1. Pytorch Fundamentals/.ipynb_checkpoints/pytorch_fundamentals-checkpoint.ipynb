{
 "cells": [
  {
   "cell_type": "code",
   "execution_count": 1,
   "id": "9e4ca571",
   "metadata": {},
   "outputs": [],
   "source": [
    "import torch"
   ]
  },
  {
   "cell_type": "markdown",
   "id": "c940f493",
   "metadata": {},
   "source": [
    "# Introduction To Tensors"
   ]
  },
  {
   "cell_type": "markdown",
   "id": "a004d10b",
   "metadata": {},
   "source": [
    "### 1. Creating Tensors\n",
    "__`torch.Tensor` -> https://pytorch.org/docs/stable/tensors.html__"
   ]
  },
  {
   "cell_type": "code",
   "execution_count": 2,
   "id": "ac39dcc1",
   "metadata": {},
   "outputs": [
    {
     "data": {
      "text/plain": [
       "tensor(7)"
      ]
     },
     "execution_count": 2,
     "metadata": {},
     "output_type": "execute_result"
    }
   ],
   "source": [
    "# scalar\n",
    "scalar = torch.tensor(7)\n",
    "scalar"
   ]
  },
  {
   "cell_type": "code",
   "execution_count": 3,
   "id": "1614c451",
   "metadata": {},
   "outputs": [
    {
     "data": {
      "text/plain": [
       "0"
      ]
     },
     "execution_count": 3,
     "metadata": {},
     "output_type": "execute_result"
    }
   ],
   "source": [
    "scalar.ndim # gives no of dimension"
   ]
  },
  {
   "cell_type": "code",
   "execution_count": 4,
   "id": "71cd893f",
   "metadata": {},
   "outputs": [
    {
     "data": {
      "text/plain": [
       "7"
      ]
     },
     "execution_count": 4,
     "metadata": {},
     "output_type": "execute_result"
    }
   ],
   "source": [
    "scalar.item() # gives the content of the tensor"
   ]
  },
  {
   "cell_type": "code",
   "execution_count": 5,
   "id": "f89660ac",
   "metadata": {},
   "outputs": [
    {
     "data": {
      "text/plain": [
       "torch.Size([])"
      ]
     },
     "execution_count": 5,
     "metadata": {},
     "output_type": "execute_result"
    }
   ],
   "source": [
    "scalar.shape # gives the shape of the tensor"
   ]
  },
  {
   "cell_type": "code",
   "execution_count": 6,
   "id": "0a11dbcd",
   "metadata": {},
   "outputs": [
    {
     "data": {
      "text/plain": [
       "tensor([7, 7])"
      ]
     },
     "execution_count": 6,
     "metadata": {},
     "output_type": "execute_result"
    }
   ],
   "source": [
    "# vector\n",
    "vector = torch.tensor([7,7])\n",
    "vector"
   ]
  },
  {
   "cell_type": "code",
   "execution_count": 7,
   "id": "c0378b62",
   "metadata": {},
   "outputs": [
    {
     "data": {
      "text/plain": [
       "1"
      ]
     },
     "execution_count": 7,
     "metadata": {},
     "output_type": "execute_result"
    }
   ],
   "source": [
    "vector.ndim"
   ]
  },
  {
   "cell_type": "code",
   "execution_count": 8,
   "id": "db4d26e4",
   "metadata": {},
   "outputs": [
    {
     "data": {
      "text/plain": [
       "torch.Size([2])"
      ]
     },
     "execution_count": 8,
     "metadata": {},
     "output_type": "execute_result"
    }
   ],
   "source": [
    "vector.shape"
   ]
  },
  {
   "cell_type": "code",
   "execution_count": 9,
   "id": "460366ee",
   "metadata": {},
   "outputs": [
    {
     "data": {
      "text/plain": [
       "tensor([[ 7,  8],\n",
       "        [ 9, 10]])"
      ]
     },
     "execution_count": 9,
     "metadata": {},
     "output_type": "execute_result"
    }
   ],
   "source": [
    "# MATRIX\n",
    "MATRIX = torch.tensor([[7, 8], \n",
    "                       [9, 10]])\n",
    "MATRIX"
   ]
  },
  {
   "cell_type": "code",
   "execution_count": 10,
   "id": "d8aa38b0",
   "metadata": {},
   "outputs": [
    {
     "data": {
      "text/plain": [
       "2"
      ]
     },
     "execution_count": 10,
     "metadata": {},
     "output_type": "execute_result"
    }
   ],
   "source": [
    "MATRIX.ndim"
   ]
  },
  {
   "cell_type": "code",
   "execution_count": 11,
   "id": "3c158a66",
   "metadata": {},
   "outputs": [
    {
     "data": {
      "text/plain": [
       "torch.Size([2, 2])"
      ]
     },
     "execution_count": 11,
     "metadata": {},
     "output_type": "execute_result"
    }
   ],
   "source": [
    "MATRIX.shape"
   ]
  },
  {
   "cell_type": "code",
   "execution_count": 12,
   "id": "5266d5ea",
   "metadata": {},
   "outputs": [
    {
     "data": {
      "text/plain": [
       "(tensor([7, 8]), tensor([ 9, 10]))"
      ]
     },
     "execution_count": 12,
     "metadata": {},
     "output_type": "execute_result"
    }
   ],
   "source": [
    "MATRIX[0], MATRIX[1] # we can index on them "
   ]
  },
  {
   "cell_type": "code",
   "execution_count": 13,
   "id": "7a904f1a",
   "metadata": {},
   "outputs": [
    {
     "data": {
      "text/plain": [
       "tensor([[[1, 2, 3],\n",
       "         [3, 6, 9],\n",
       "         [2, 4, 5]]])"
      ]
     },
     "execution_count": 13,
     "metadata": {},
     "output_type": "execute_result"
    }
   ],
   "source": [
    "# TENSOR\n",
    "TENSOR = torch.tensor([[[1, 2, 3],\n",
    "                        [3, 6, 9], \n",
    "                        [2, 4, 5]]])\n",
    "TENSOR"
   ]
  },
  {
   "cell_type": "code",
   "execution_count": 14,
   "id": "4c10aa94",
   "metadata": {},
   "outputs": [
    {
     "data": {
      "text/plain": [
       "3"
      ]
     },
     "execution_count": 14,
     "metadata": {},
     "output_type": "execute_result"
    }
   ],
   "source": [
    "TENSOR.ndim"
   ]
  },
  {
   "cell_type": "code",
   "execution_count": 15,
   "id": "d2b9c35a",
   "metadata": {},
   "outputs": [
    {
     "data": {
      "text/plain": [
       "torch.Size([1, 3, 3])"
      ]
     },
     "execution_count": 15,
     "metadata": {},
     "output_type": "execute_result"
    }
   ],
   "source": [
    "TENSOR.shape # one matrix of size 3x3"
   ]
  },
  {
   "cell_type": "code",
   "execution_count": 16,
   "id": "f6bd35b1",
   "metadata": {},
   "outputs": [
    {
     "data": {
      "text/plain": [
       "(tensor([[1, 2, 3],\n",
       "         [3, 6, 9],\n",
       "         [2, 4, 5]]),\n",
       " tensor([1, 2, 3]),\n",
       " tensor(1))"
      ]
     },
     "execution_count": 16,
     "metadata": {},
     "output_type": "execute_result"
    }
   ],
   "source": [
    "TENSOR[0], TENSOR[0][0], TENSOR[0][0][0]"
   ]
  },
  {
   "cell_type": "markdown",
   "id": "7b4bcf6e",
   "metadata": {},
   "source": [
    "### 2. Random tensor\n",
    "__`torch.rand()` -> https://pytorch.org/docs/stable/generated/torch.rand.html__\n",
    "\n",
    "\n",
    "Because many deep learning algorithms start with random numbers and in the training process they update the random \n",
    "numbers "
   ]
  },
  {
   "cell_type": "code",
   "execution_count": 17,
   "id": "e2f3ba68",
   "metadata": {},
   "outputs": [
    {
     "data": {
      "text/plain": [
       "tensor([[0.7473, 0.9412, 0.7662, 0.7014],\n",
       "        [0.6760, 0.2130, 0.4196, 0.5167],\n",
       "        [0.3956, 0.6915, 0.9704, 0.8546]])"
      ]
     },
     "execution_count": 17,
     "metadata": {},
     "output_type": "execute_result"
    }
   ],
   "source": [
    "# create a random tensor with size (3,4)\n",
    "random_tensor = torch.rand(3, 4)\n",
    "random_tensor"
   ]
  },
  {
   "cell_type": "code",
   "execution_count": 18,
   "id": "282b54b9",
   "metadata": {},
   "outputs": [
    {
     "data": {
      "text/plain": [
       "torch.Size([224, 224, 3])"
      ]
     },
     "execution_count": 18,
     "metadata": {},
     "output_type": "execute_result"
    }
   ],
   "source": [
    "# create a random tensor with the size of the image\n",
    "random_image_size_tensor = torch.rand(size=(224, 224, 3)) # height, width, color channels (R,G,B)\n",
    "random_image_size_tensor.shape"
   ]
  },
  {
   "cell_type": "markdown",
   "id": "38967043",
   "metadata": {},
   "source": [
    "### 3. Tensors With 0's And 1's\n",
    "__`torch.zeros()` -> https://pytorch.org/docs/stable/generated/torch.zeros.html__ <br>\n",
    "__`torch.ones()` -> https://pytorch.org/docs/stable/generated/torch.ones.html__"
   ]
  },
  {
   "cell_type": "code",
   "execution_count": 19,
   "id": "27f8383b",
   "metadata": {},
   "outputs": [
    {
     "data": {
      "text/plain": [
       "tensor([[0., 0., 0., 0.],\n",
       "        [0., 0., 0., 0.],\n",
       "        [0., 0., 0., 0.]])"
      ]
     },
     "execution_count": 19,
     "metadata": {},
     "output_type": "execute_result"
    }
   ],
   "source": [
    "zeros = torch.zeros(size=(3, 4))\n",
    "zeros  # 0's tensor can be used for masking"
   ]
  },
  {
   "cell_type": "code",
   "execution_count": 20,
   "id": "2e6b0dca",
   "metadata": {},
   "outputs": [
    {
     "data": {
      "text/plain": [
       "tensor([[1., 1., 1., 1.],\n",
       "        [1., 1., 1., 1.],\n",
       "        [1., 1., 1., 1.]])"
      ]
     },
     "execution_count": 20,
     "metadata": {},
     "output_type": "execute_result"
    }
   ],
   "source": [
    "ones = torch.ones(size=(3, 4))\n",
    "ones "
   ]
  },
  {
   "cell_type": "code",
   "execution_count": 21,
   "id": "1a3ad05e",
   "metadata": {},
   "outputs": [
    {
     "data": {
      "text/plain": [
       "torch.float32"
      ]
     },
     "execution_count": 21,
     "metadata": {},
     "output_type": "execute_result"
    }
   ],
   "source": [
    "zeros.dtype # by default the dtype of all tensors is float"
   ]
  },
  {
   "cell_type": "markdown",
   "id": "f7f3ef1f",
   "metadata": {},
   "source": [
    "### 4. Creating Range of Tensors and Tensors-like\n",
    "__`torch.arange()` -> https://pytorch.org/docs/stable/generated/torch.arange.html__ <br>\n",
    "__`torch.zeros_like()` -> https://pytorch.org/docs/stable/generated/torch.zeros_like.html__"
   ]
  },
  {
   "cell_type": "code",
   "execution_count": 22,
   "id": "f3882e93",
   "metadata": {},
   "outputs": [
    {
     "data": {
      "text/plain": [
       "tensor([0, 2, 4, 6, 8])"
      ]
     },
     "execution_count": 22,
     "metadata": {},
     "output_type": "execute_result"
    }
   ],
   "source": [
    "# torch.range(0, 10) # currently it is depricated\n",
    "tensor_range = torch.arange(start=0, end=10, step=2) # arange() is the alternative\n",
    "tensor_range"
   ]
  },
  {
   "cell_type": "code",
   "execution_count": 23,
   "id": "e340ec2a",
   "metadata": {},
   "outputs": [
    {
     "data": {
      "text/plain": [
       "tensor([0, 0, 0, 0, 0])"
      ]
     },
     "execution_count": 23,
     "metadata": {},
     "output_type": "execute_result"
    }
   ],
   "source": [
    "# if we want to make a tensor of the same shape of another tensor then we can use zeros_like\n",
    "torch.zeros_like(input=tensor_range) "
   ]
  },
  {
   "cell_type": "code",
   "execution_count": 24,
   "id": "8f92d29a",
   "metadata": {},
   "outputs": [
    {
     "data": {
      "text/plain": [
       "tensor([1, 1, 1, 1, 1])"
      ]
     },
     "execution_count": 24,
     "metadata": {},
     "output_type": "execute_result"
    }
   ],
   "source": [
    "torch.ones_like(input=tensor_range)"
   ]
  },
  {
   "cell_type": "markdown",
   "id": "21da7b86",
   "metadata": {},
   "source": [
    "### 5. Tensor Datatypes\n",
    "We can see the datatypes in the same link as __`torch.tensor()` -> https://pytorch.org/docs/stable/tensors.html__"
   ]
  },
  {
   "cell_type": "code",
   "execution_count": 25,
   "id": "d25bdd9c",
   "metadata": {},
   "outputs": [
    {
     "data": {
      "text/plain": [
       "torch.float32"
      ]
     },
     "execution_count": 25,
     "metadata": {},
     "output_type": "execute_result"
    }
   ],
   "source": [
    "torch.rand(3,4).dtype # be default dtype is 'float_32'"
   ]
  },
  {
   "cell_type": "code",
   "execution_count": 26,
   "id": "69eed351",
   "metadata": {},
   "outputs": [
    {
     "data": {
      "text/plain": [
       "torch.float32"
      ]
     },
     "execution_count": 26,
     "metadata": {},
     "output_type": "execute_result"
    }
   ],
   "source": [
    "float_32_tensor = torch.tensor([3., 6., 9.], dtype=None) # even if we specify None it's still float_32\n",
    "float_32_tensor.dtype"
   ]
  },
  {
   "cell_type": "code",
   "execution_count": 27,
   "id": "42222a59",
   "metadata": {},
   "outputs": [
    {
     "data": {
      "text/plain": [
       "torch.float16"
      ]
     },
     "execution_count": 27,
     "metadata": {},
     "output_type": "execute_result"
    }
   ],
   "source": [
    "float_16_tensor = torch.tensor([3., 6., 9.], dtype=torch.float16)\n",
    "float_16_tensor.dtype"
   ]
  },
  {
   "cell_type": "code",
   "execution_count": 28,
   "id": "6af27868",
   "metadata": {},
   "outputs": [
    {
     "data": {
      "text/plain": [
       "tensor([3., 6., 9.])"
      ]
     },
     "execution_count": 28,
     "metadata": {},
     "output_type": "execute_result"
    }
   ],
   "source": [
    "# other important arguments of torch.tensor()\n",
    "float_32_tensor = torch.tensor([3.0, 6.0, 9.0],\n",
    "                              dtype=None, # datatype of the tensor\n",
    "                              device=None, # what device is your tensor on \n",
    "                              requires_grad=False) # whether or not to track gradients with this tensors operations\n",
    "float_32_tensor"
   ]
  },
  {
   "cell_type": "code",
   "execution_count": 29,
   "id": "e1d513a9",
   "metadata": {},
   "outputs": [
    {
     "data": {
      "text/plain": [
       "tensor([3., 6., 9.], dtype=torch.float16)"
      ]
     },
     "execution_count": 29,
     "metadata": {},
     "output_type": "execute_result"
    }
   ],
   "source": [
    "# we can also convert float32 to float16\n",
    "float_16_tensor = float_32_tensor.type(torch.float16)\n",
    "float_16_tensor"
   ]
  },
  {
   "cell_type": "markdown",
   "id": "5280f918",
   "metadata": {},
   "source": [
    "### 6. Tensor Attributes\n",
    "The 3 most common errors in deep learning is : <br>\n",
    ">    1. Tensors not right datatype -> to get dtype info use `tensor.dtype` <br>\n",
    ">    2. Tensors not right shape -> to get shape info use `tensor.shape` <br>\n",
    ">    3. Tensors not on right device -> to get device info use `tensor.device`"
   ]
  },
  {
   "cell_type": "code",
   "execution_count": 30,
   "id": "342b23af",
   "metadata": {},
   "outputs": [
    {
     "data": {
      "text/plain": [
       "tensor([[0.7175, 0.8606, 0.7297, 0.4210],\n",
       "        [0.3549, 0.2538, 0.5340, 0.0345],\n",
       "        [0.8445, 0.7034, 0.7783, 0.4213]])"
      ]
     },
     "execution_count": 30,
     "metadata": {},
     "output_type": "execute_result"
    }
   ],
   "source": [
    "some_tensor = torch.rand(3, 4)\n",
    "some_tensor"
   ]
  },
  {
   "cell_type": "code",
   "execution_count": 31,
   "id": "34f6e002",
   "metadata": {},
   "outputs": [
    {
     "name": "stdout",
     "output_type": "stream",
     "text": [
      "Datatype : torch.float32\n",
      "Shape :  torch.Size([3, 4])\n",
      "Device : cpu\n"
     ]
    }
   ],
   "source": [
    "print(f\"Datatype : {some_tensor.dtype}\")\n",
    "print(f\"Shape :  {some_tensor.shape}\")\n",
    "print(f\"Device : {some_tensor.device}\")"
   ]
  },
  {
   "cell_type": "markdown",
   "id": "fe3d172f",
   "metadata": {},
   "source": [
    "### 7. Tensor Operations\n",
    "> Addition <br> \n",
    "> Subtraction <br>\n",
    "> Mutiplication (Element wise) <br>\n",
    "> Division <br>\n",
    "> Matrix Multiplication <br>\n",
    "> Tensor Aggergation <br>\n",
    "> Positional Min And Max <br>"
   ]
  },
  {
   "cell_type": "code",
   "execution_count": 32,
   "id": "24e0203e",
   "metadata": {},
   "outputs": [
    {
     "data": {
      "text/plain": [
       "tensor([1, 2, 3])"
      ]
     },
     "execution_count": 32,
     "metadata": {},
     "output_type": "execute_result"
    }
   ],
   "source": [
    "tensor = torch.tensor([1, 2, 3])\n",
    "tensor"
   ]
  },
  {
   "cell_type": "code",
   "execution_count": 33,
   "id": "4c68026b",
   "metadata": {},
   "outputs": [
    {
     "data": {
      "text/plain": [
       "tensor([11, 12, 13])"
      ]
     },
     "execution_count": 33,
     "metadata": {},
     "output_type": "execute_result"
    }
   ],
   "source": [
    "# Addition\n",
    "tensor + 10"
   ]
  },
  {
   "cell_type": "code",
   "execution_count": 34,
   "id": "836bc899",
   "metadata": {},
   "outputs": [
    {
     "data": {
      "text/plain": [
       "tensor([0, 1, 2])"
      ]
     },
     "execution_count": 34,
     "metadata": {},
     "output_type": "execute_result"
    }
   ],
   "source": [
    "# Subtraction\n",
    "tensor - 1"
   ]
  },
  {
   "cell_type": "code",
   "execution_count": 35,
   "id": "4e20b996",
   "metadata": {},
   "outputs": [
    {
     "data": {
      "text/plain": [
       "tensor([10, 20, 30])"
      ]
     },
     "execution_count": 35,
     "metadata": {},
     "output_type": "execute_result"
    }
   ],
   "source": [
    "# Multiplication (Element Wise)\n",
    "tensor * 10"
   ]
  },
  {
   "cell_type": "code",
   "execution_count": 36,
   "id": "572202b8",
   "metadata": {},
   "outputs": [
    {
     "data": {
      "text/plain": [
       "tensor([0.1000, 0.2000, 0.3000])"
      ]
     },
     "execution_count": 36,
     "metadata": {},
     "output_type": "execute_result"
    }
   ],
   "source": [
    "# Division\n",
    "tensor / 10"
   ]
  },
  {
   "cell_type": "code",
   "execution_count": 37,
   "id": "5d1047c6",
   "metadata": {},
   "outputs": [
    {
     "data": {
      "text/plain": [
       "tensor([ 4, 10, 18])"
      ]
     },
     "execution_count": 37,
     "metadata": {},
     "output_type": "execute_result"
    }
   ],
   "source": [
    "# Matrix Multiplication\n",
    "\n",
    "tensor_A = torch.tensor([1,2,3])\n",
    "tensor_B = torch.tensor([4,5,6])\n",
    "\n",
    "tensor_A * tensor_B # this does element wise multiplication of 2 tensors (Hadamard Product)"
   ]
  },
  {
   "cell_type": "code",
   "execution_count": 38,
   "id": "eb548d54",
   "metadata": {},
   "outputs": [
    {
     "data": {
      "text/plain": [
       "(tensor(32), tensor(32))"
      ]
     },
     "execution_count": 38,
     "metadata": {},
     "output_type": "execute_result"
    }
   ],
   "source": [
    "# for dot product we use matmul() or '@' symbol\n",
    "torch.matmul(tensor_A, tensor_B), tensor_A @ tensor_B"
   ]
  },
  {
   "cell_type": "code",
   "execution_count": 39,
   "id": "20bb799b",
   "metadata": {},
   "outputs": [
    {
     "data": {
      "text/plain": [
       "tensor([[0.5134, 0.3974, 0.7959],\n",
       "        [0.9782, 0.6079, 1.1085],\n",
       "        [0.5617, 0.2839, 0.4583]])"
      ]
     },
     "execution_count": 39,
     "metadata": {},
     "output_type": "execute_result"
    }
   ],
   "source": [
    "# if inner dimension doesnt match we cant multiply these matrices\n",
    "# torch.matmul(torch.rand(3, 2), torch.rand(3, 2))\n",
    "\n",
    "torch.matmul(torch.rand(3, 2), torch.rand(2, 3))"
   ]
  },
  {
   "cell_type": "code",
   "execution_count": 41,
   "id": "1b3057fe",
   "metadata": {},
   "outputs": [
    {
     "data": {
      "text/plain": [
       "tensor([[0.3013, 0.8243, 0.2659],\n",
       "        [0.3602, 0.6258, 0.2598],\n",
       "        [0.3389, 0.7741, 0.2744]])"
      ]
     },
     "execution_count": 41,
     "metadata": {},
     "output_type": "execute_result"
    }
   ],
   "source": [
    "# to multiply A.B^T (A. Transpose(B))\n",
    "tensor_A = torch.rand(3, 2)\n",
    "tensor_B = torch.rand(3, 2)\n",
    "\n",
    "# torch.matmul(tensor_A, tensor_B) # we can't mul directly as shape is not compatible\n",
    "\n",
    "torch.matmul(tensor_A, tensor_B.T) # here we first take Transpose of B "
   ]
  },
  {
   "cell_type": "markdown",
   "id": "e4e11c8b",
   "metadata": {},
   "source": [
    "__Tensor Aggregation: Finding min, max, mean, sum, etc__"
   ]
  },
  {
   "cell_type": "code",
   "execution_count": 52,
   "id": "6c428185",
   "metadata": {},
   "outputs": [
    {
     "data": {
      "text/plain": [
       "tensor([ 0, 10, 20, 30, 40, 50, 60, 70, 80, 90])"
      ]
     },
     "execution_count": 52,
     "metadata": {},
     "output_type": "execute_result"
    }
   ],
   "source": [
    "# creating a tensor\n",
    "x = torch.arange(0, 100, 10)\n",
    "x"
   ]
  },
  {
   "cell_type": "code",
   "execution_count": 44,
   "id": "178ec336",
   "metadata": {},
   "outputs": [
    {
     "data": {
      "text/plain": [
       "(tensor(0), tensor(0))"
      ]
     },
     "execution_count": 44,
     "metadata": {},
     "output_type": "execute_result"
    }
   ],
   "source": [
    "# find min\n",
    "x.min(), torch.min(x)"
   ]
  },
  {
   "cell_type": "code",
   "execution_count": 45,
   "id": "896e2f39",
   "metadata": {},
   "outputs": [
    {
     "data": {
      "text/plain": [
       "(tensor(90), tensor(90))"
      ]
     },
     "execution_count": 45,
     "metadata": {},
     "output_type": "execute_result"
    }
   ],
   "source": [
    "# find max\n",
    "x.max(), torch.max(x)"
   ]
  },
  {
   "cell_type": "code",
   "execution_count": 50,
   "id": "91a54a29",
   "metadata": {},
   "outputs": [
    {
     "data": {
      "text/plain": [
       "(tensor(45.), tensor(45.))"
      ]
     },
     "execution_count": 50,
     "metadata": {},
     "output_type": "execute_result"
    }
   ],
   "source": [
    "# find mean\n",
    "# x.mean(), torch.mean(x)  # we can't find directly we have to change the dtype\n",
    "x.type(torch.float32).mean(), torch.mean(x.type(torch.float32))"
   ]
  },
  {
   "cell_type": "code",
   "execution_count": 51,
   "id": "bc019bb3",
   "metadata": {},
   "outputs": [
    {
     "data": {
      "text/plain": [
       "(tensor(450), tensor(450))"
      ]
     },
     "execution_count": 51,
     "metadata": {},
     "output_type": "execute_result"
    }
   ],
   "source": [
    "# find sum\n",
    "x.sum(), torch.sum(x)"
   ]
  },
  {
   "cell_type": "markdown",
   "id": "0fc093ad",
   "metadata": {},
   "source": [
    "__Positional Mean & Max__"
   ]
  },
  {
   "cell_type": "code",
   "execution_count": 54,
   "id": "1056a301",
   "metadata": {},
   "outputs": [
    {
     "data": {
      "text/plain": [
       "(tensor(0), tensor(0))"
      ]
     },
     "execution_count": 54,
     "metadata": {},
     "output_type": "execute_result"
    }
   ],
   "source": [
    "x.argmin(), torch.argmin(x) # index that contains min value"
   ]
  },
  {
   "cell_type": "code",
   "execution_count": 55,
   "id": "139fbcb0",
   "metadata": {},
   "outputs": [
    {
     "data": {
      "text/plain": [
       "(tensor(9), tensor(9))"
      ]
     },
     "execution_count": 55,
     "metadata": {},
     "output_type": "execute_result"
    }
   ],
   "source": [
    "x.argmax(), torch.argmax(x) # index that conatains max value"
   ]
  },
  {
   "cell_type": "markdown",
   "id": "cc0f25b0",
   "metadata": {},
   "source": [
    "### 8. Reshaping, Stacking, Squeezing, Unsqueezing\n",
    "> __reshaping -> reshapes an input tensor to a defined shape__<br> \n",
    "> __view -> returns view of an input tensor of certain shape but keep the same memory as original tensor__ <br>\n",
    "> __stacking -> combine multiple tensors on top of each other (vstack) or side by side (hstack)__ <br>\n",
    "> __squeeze -> removes all '1' dimensions from a tensor__ <br>\n",
    "> __unsquueze -> adds a '1' dimension to target tensor__ <br>\n",
    "> __permute -> returns view of input with dimensions permuted (swapped) in a certain way__ <br>"
   ]
  },
  {
   "cell_type": "code",
   "execution_count": 65,
   "id": "333cd6f8",
   "metadata": {},
   "outputs": [
    {
     "data": {
      "text/plain": [
       "(tensor([1., 2., 3., 4., 5., 6., 7., 8., 9.]), torch.Size([9]))"
      ]
     },
     "execution_count": 65,
     "metadata": {},
     "output_type": "execute_result"
    }
   ],
   "source": [
    "x = torch.arange(1., 10.)\n",
    "x, x.shape"
   ]
  },
  {
   "cell_type": "markdown",
   "id": "d93f1d8d",
   "metadata": {},
   "source": [
    "__Reshaping -> https://pytorch.org/docs/stable/generated/torch.reshape.html__"
   ]
  },
  {
   "cell_type": "code",
   "execution_count": 66,
   "id": "9e2ca707",
   "metadata": {},
   "outputs": [
    {
     "data": {
      "text/plain": [
       "(tensor([[1., 2., 3., 4., 5., 6., 7., 8., 9.]]), torch.Size([1, 9]))"
      ]
     },
     "execution_count": 66,
     "metadata": {},
     "output_type": "execute_result"
    }
   ],
   "source": [
    "# x.reshape(1, 7) # RuntimeError: shape '[1, 7]' is invalid for input of size 9\n",
    "\n",
    "x_reshaped = x.reshape(1, 9) # note the dimensions should be compatible with the original tensor\n",
    "x_reshaped, x_reshaped.shape # we added one extra dimension"
   ]
  },
  {
   "cell_type": "code",
   "execution_count": 67,
   "id": "296842a1",
   "metadata": {},
   "outputs": [
    {
     "data": {
      "text/plain": [
       "(tensor([[1., 2., 3.],\n",
       "         [4., 5., 6.],\n",
       "         [7., 8., 9.]]),\n",
       " torch.Size([3, 3]))"
      ]
     },
     "execution_count": 67,
     "metadata": {},
     "output_type": "execute_result"
    }
   ],
   "source": [
    "x_reshaped2 = x.reshape(3,3)\n",
    "x_reshaped2, x_reshaped2.shape"
   ]
  },
  {
   "cell_type": "markdown",
   "id": "946bc347",
   "metadata": {},
   "source": [
    "__View -> https://pytorch.org/docs/stable/generated/torch.Tensor.view.html__"
   ]
  },
  {
   "cell_type": "code",
   "execution_count": 74,
   "id": "f8065587",
   "metadata": {},
   "outputs": [
    {
     "data": {
      "text/plain": [
       "tensor([1., 2., 3., 4., 5., 6., 7., 8., 9.])"
      ]
     },
     "execution_count": 74,
     "metadata": {},
     "output_type": "execute_result"
    }
   ],
   "source": [
    "x.view(9)"
   ]
  },
  {
   "cell_type": "code",
   "execution_count": 75,
   "id": "3d109466",
   "metadata": {},
   "outputs": [
    {
     "data": {
      "text/plain": [
       "tensor([[1., 2., 3., 4., 5., 6., 7., 8., 9.]])"
      ]
     },
     "execution_count": 75,
     "metadata": {},
     "output_type": "execute_result"
    }
   ],
   "source": [
    "z = x.view(1, 9) # again adds one extra dimension\n",
    "z"
   ]
  },
  {
   "cell_type": "code",
   "execution_count": 76,
   "id": "282b3caa",
   "metadata": {},
   "outputs": [
    {
     "data": {
      "text/plain": [
       "(tensor([[5., 2., 3., 4., 5., 6., 7., 8., 9.]]),\n",
       " tensor([5., 2., 3., 4., 5., 6., 7., 8., 9.]))"
      ]
     },
     "execution_count": 76,
     "metadata": {},
     "output_type": "execute_result"
    }
   ],
   "source": [
    "# now since z is a view of the x, \n",
    "# if we change z it also changes x (because they both share same memory)\n",
    "z[0][0] = 5\n",
    "z, x"
   ]
  },
  {
   "cell_type": "markdown",
   "id": "63eb080d",
   "metadata": {},
   "source": [
    "__Stack -> https://pytorch.org/docs/stable/generated/torch.stack.html__"
   ]
  },
  {
   "cell_type": "code",
   "execution_count": 80,
   "id": "05d99f72",
   "metadata": {},
   "outputs": [
    {
     "data": {
      "text/plain": [
       "(tensor([5., 2., 3., 4., 5., 6., 7., 8., 9.]), torch.Size([9]))"
      ]
     },
     "execution_count": 80,
     "metadata": {},
     "output_type": "execute_result"
    }
   ],
   "source": [
    "x, x.shape # printing for reference "
   ]
  },
  {
   "cell_type": "code",
   "execution_count": 77,
   "id": "ff22f84b",
   "metadata": {},
   "outputs": [
    {
     "data": {
      "text/plain": [
       "tensor([[5., 2., 3., 4., 5., 6., 7., 8., 9.],\n",
       "        [5., 2., 3., 4., 5., 6., 7., 8., 9.],\n",
       "        [5., 2., 3., 4., 5., 6., 7., 8., 9.],\n",
       "        [5., 2., 3., 4., 5., 6., 7., 8., 9.]])"
      ]
     },
     "execution_count": 77,
     "metadata": {},
     "output_type": "execute_result"
    }
   ],
   "source": [
    "x_stacked = torch.stack([x, x, x, x]) # by def it stacks in dim=0\n",
    "x_stacked"
   ]
  },
  {
   "cell_type": "code",
   "execution_count": 79,
   "id": "c9b1f9e9",
   "metadata": {},
   "outputs": [
    {
     "data": {
      "text/plain": [
       "tensor([[5., 2., 3., 4., 5., 6., 7., 8., 9.],\n",
       "        [5., 2., 3., 4., 5., 6., 7., 8., 9.],\n",
       "        [5., 2., 3., 4., 5., 6., 7., 8., 9.],\n",
       "        [5., 2., 3., 4., 5., 6., 7., 8., 9.]])"
      ]
     },
     "execution_count": 79,
     "metadata": {},
     "output_type": "execute_result"
    }
   ],
   "source": [
    "x_stacked = torch.stack([x, x, x, x], dim=0)\n",
    "x_stacked"
   ]
  },
  {
   "cell_type": "code",
   "execution_count": 81,
   "id": "339c81bd",
   "metadata": {},
   "outputs": [
    {
     "data": {
      "text/plain": [
       "tensor([[5., 5., 5., 5.],\n",
       "        [2., 2., 2., 2.],\n",
       "        [3., 3., 3., 3.],\n",
       "        [4., 4., 4., 4.],\n",
       "        [5., 5., 5., 5.],\n",
       "        [6., 6., 6., 6.],\n",
       "        [7., 7., 7., 7.],\n",
       "        [8., 8., 8., 8.],\n",
       "        [9., 9., 9., 9.]])"
      ]
     },
     "execution_count": 81,
     "metadata": {},
     "output_type": "execute_result"
    }
   ],
   "source": [
    "x_stacked = torch.stack([x, x, x, x], dim=1)\n",
    "x_stacked"
   ]
  },
  {
   "cell_type": "code",
   "execution_count": 82,
   "id": "de5cda11",
   "metadata": {},
   "outputs": [],
   "source": [
    "# we can't use dim=2 as x doesnt have dim2"
   ]
  },
  {
   "cell_type": "markdown",
   "id": "193f8808",
   "metadata": {},
   "source": [
    "__Squeezing -> https://pytorch.org/docs/stable/generated/torch.squeeze.html__ <br>\n",
    "__Unsqueezing -> https://pytorch.org/docs/stable/generated/torch.unsqueeze.html__"
   ]
  },
  {
   "cell_type": "code",
   "execution_count": 83,
   "id": "37601923",
   "metadata": {},
   "outputs": [
    {
     "data": {
      "text/plain": [
       "(tensor([5., 2., 3., 4., 5., 6., 7., 8., 9.]), torch.Size([9]))"
      ]
     },
     "execution_count": 83,
     "metadata": {},
     "output_type": "execute_result"
    }
   ],
   "source": [
    "x, x.shape # printing for reference "
   ]
  },
  {
   "cell_type": "code",
   "execution_count": 92,
   "id": "c87abe63",
   "metadata": {},
   "outputs": [
    {
     "name": "stdout",
     "output_type": "stream",
     "text": [
      "Previous tensor: tensor([[5., 2., 3., 4., 5., 6., 7., 8., 9.]])\n",
      "Previous tensor shape: torch.Size([1, 9])\n",
      "\n",
      "New tensor: tensor([5., 2., 3., 4., 5., 6., 7., 8., 9.])\n",
      "New tensor shape: torch.Size([9])\n"
     ]
    }
   ],
   "source": [
    "print(f\"Previous tensor: {x_reshaped}\")\n",
    "print(f\"Previous tensor shape: {x_reshaped.shape}\")\n",
    "\n",
    "# removes all single dimension\n",
    "x_squeezed = x_reshaped.squeeze()\n",
    "\n",
    "print(f\"\\nNew tensor: {x_squeezed}\")\n",
    "print(f\"New tensor shape: {x_squeezed.shape}\")"
   ]
  },
  {
   "cell_type": "code",
   "execution_count": 94,
   "id": "d32a9746",
   "metadata": {},
   "outputs": [
    {
     "name": "stdout",
     "output_type": "stream",
     "text": [
      "\n",
      "Previous tensor: tensor([5., 2., 3., 4., 5., 6., 7., 8., 9.])\n",
      "Previous tensor shape: torch.Size([9])\n",
      "\n",
      "New tensor: tensor([[5., 2., 3., 4., 5., 6., 7., 8., 9.]])\n",
      "New tensor shape: torch.Size([1, 9])\n"
     ]
    }
   ],
   "source": [
    "print(f\"\\nPrevious tensor: {x_squeezed}\")\n",
    "print(f\"Previous tensor shape: {x_squeezed.shape}\")\n",
    "\n",
    "# adds an extra dim 0\n",
    "x_unsqueezed = x_squeezed.unsqueeze(dim=0)\n",
    "\n",
    "print(f\"\\nNew tensor: {x_unsqueezed}\")\n",
    "print(f\"New tensor shape: {x_unsqueezed.shape}\")"
   ]
  },
  {
   "cell_type": "code",
   "execution_count": 95,
   "id": "e6bf082b",
   "metadata": {},
   "outputs": [
    {
     "name": "stdout",
     "output_type": "stream",
     "text": [
      "\n",
      "Previous tensor: tensor([5., 2., 3., 4., 5., 6., 7., 8., 9.])\n",
      "Previous tensor shape: torch.Size([9])\n",
      "\n",
      "New tensor: tensor([[5.],\n",
      "        [2.],\n",
      "        [3.],\n",
      "        [4.],\n",
      "        [5.],\n",
      "        [6.],\n",
      "        [7.],\n",
      "        [8.],\n",
      "        [9.]])\n",
      "New tensor shape: torch.Size([9, 1])\n"
     ]
    }
   ],
   "source": [
    "print(f\"\\nPrevious tensor: {x_squeezed}\")\n",
    "print(f\"Previous tensor shape: {x_squeezed.shape}\")\n",
    "\n",
    "# adds an extra dim 1\n",
    "x_unsqueezed = x_squeezed.unsqueeze(dim=1)\n",
    "\n",
    "print(f\"\\nNew tensor: {x_unsqueezed}\")\n",
    "print(f\"New tensor shape: {x_unsqueezed.shape}\")"
   ]
  },
  {
   "cell_type": "markdown",
   "id": "a88484a7",
   "metadata": {},
   "source": [
    "__permute -> https://pytorch.org/docs/stable/generated/torch.permute.html__"
   ]
  },
  {
   "cell_type": "code",
   "execution_count": 96,
   "id": "c1a9030d",
   "metadata": {},
   "outputs": [
    {
     "name": "stdout",
     "output_type": "stream",
     "text": [
      "Previous Shape: torch.Size([224, 224, 3])\n",
      "New Shape: torch.Size([3, 224, 224])\n"
     ]
    }
   ],
   "source": [
    "x_original = torch.rand(size=(224,224,3)) # [height, width, color_channels]\n",
    "\n",
    "x_permuted = x_original.permute(2, 0, 1) # shifts axis 0->1, 1->2, 2->0\n",
    "\n",
    "print(f\"Previous Shape: {x_original.shape}\")\n",
    "print(f\"New Shape: {x_permuted.shape}\")"
   ]
  },
  {
   "cell_type": "markdown",
   "id": "8b6a01b2",
   "metadata": {},
   "source": [
    "### 9. Indexing (Selecting data from tensors)"
   ]
  },
  {
   "cell_type": "code",
   "execution_count": 100,
   "id": "c3c82a22",
   "metadata": {},
   "outputs": [
    {
     "data": {
      "text/plain": [
       "(tensor([[[1, 2, 3],\n",
       "          [4, 5, 6],\n",
       "          [7, 8, 9]]]),\n",
       " torch.Size([1, 3, 3]))"
      ]
     },
     "execution_count": 100,
     "metadata": {},
     "output_type": "execute_result"
    }
   ],
   "source": [
    "# create a tensor\n",
    "x = torch.arange(1, 10, 1).reshape(1, 3, 3)\n",
    "x, x.shape"
   ]
  },
  {
   "cell_type": "code",
   "execution_count": 101,
   "id": "fea124a8",
   "metadata": {},
   "outputs": [
    {
     "data": {
      "text/plain": [
       "tensor([[1, 2, 3],\n",
       "        [4, 5, 6],\n",
       "        [7, 8, 9]])"
      ]
     },
     "execution_count": 101,
     "metadata": {},
     "output_type": "execute_result"
    }
   ],
   "source": [
    "x[0]"
   ]
  },
  {
   "cell_type": "code",
   "execution_count": 103,
   "id": "61b7215a",
   "metadata": {},
   "outputs": [
    {
     "data": {
      "text/plain": [
       "(tensor([1, 2, 3]), tensor(1))"
      ]
     },
     "execution_count": 103,
     "metadata": {},
     "output_type": "execute_result"
    }
   ],
   "source": [
    "x[0][0], x[0][0][0]"
   ]
  },
  {
   "cell_type": "code",
   "execution_count": 105,
   "id": "4014a6ce",
   "metadata": {},
   "outputs": [
    {
     "data": {
      "text/plain": [
       "tensor([[4, 5, 6]])"
      ]
     },
     "execution_count": 105,
     "metadata": {},
     "output_type": "execute_result"
    }
   ],
   "source": [
    "# we cal ues \":\" to select all of a target dimension\n",
    "x[:, 1]"
   ]
  },
  {
   "cell_type": "code",
   "execution_count": 106,
   "id": "b6c3f44b",
   "metadata": {},
   "outputs": [
    {
     "data": {
      "text/plain": [
       "tensor([[2, 5, 8]])"
      ]
     },
     "execution_count": 106,
     "metadata": {},
     "output_type": "execute_result"
    }
   ],
   "source": [
    "# get all values of 0th and 1st dim but only index 1 of 2nd dim\n",
    "x[:, :, 1]"
   ]
  },
  {
   "cell_type": "markdown",
   "id": "91dedf34",
   "metadata": {},
   "source": [
    "### 10. Pytorch & Numpy\n",
    "\n",
    "* numpy() array to tensor -> torch.from_numpy(ndarray) <br>\n",
    "__from_numpy() -> https://pytorch.org/docs/stable/generated/torch.from_numpy.html__\n",
    "\n",
    "<br>\n",
    "\n",
    "* tensor to numpy() array -> torch.Tensor.numpy() <br>\n",
    "__numpy() -> https://pytorch.org/docs/stable/generated/torch.Tensor.numpy.html__"
   ]
  },
  {
   "cell_type": "code",
   "execution_count": 107,
   "id": "76e771cd",
   "metadata": {},
   "outputs": [],
   "source": [
    "import numpy as np"
   ]
  },
  {
   "cell_type": "code",
   "execution_count": 108,
   "id": "cf392764",
   "metadata": {},
   "outputs": [
    {
     "data": {
      "text/plain": [
       "(array([1., 2., 3., 4., 5., 6., 7.]),\n",
       " tensor([1., 2., 3., 4., 5., 6., 7.], dtype=torch.float64))"
      ]
     },
     "execution_count": 108,
     "metadata": {},
     "output_type": "execute_result"
    }
   ],
   "source": [
    "# np array to tensor\n",
    "\n",
    "array = np.arange(1.0, 8.0)\n",
    "tensor = torch.from_numpy(array) # when converting from numpy, pytorch reflects numpy's default datatype of float64\n",
    "\n",
    "array, tensor"
   ]
  },
  {
   "cell_type": "code",
   "execution_count": 109,
   "id": "cb27a633",
   "metadata": {},
   "outputs": [
    {
     "data": {
      "text/plain": [
       "(tensor([1., 1., 1., 1., 1., 1., 1.]),\n",
       " array([1., 1., 1., 1., 1., 1., 1.], dtype=float32))"
      ]
     },
     "execution_count": 109,
     "metadata": {},
     "output_type": "execute_result"
    }
   ],
   "source": [
    "# tensor to np array\n",
    "\n",
    "tensor = torch.ones(7)\n",
    "array = tensor.numpy()\n",
    "\n",
    "tensor, array"
   ]
  },
  {
   "cell_type": "markdown",
   "id": "fa2ff4a0",
   "metadata": {},
   "source": [
    "### 11. Reproducability\n",
    "To reduce the randomness in neural networks, Pytorch have a concept of **random seed** ."
   ]
  },
  {
   "cell_type": "code",
   "execution_count": 110,
   "id": "2b6b3423",
   "metadata": {},
   "outputs": [
    {
     "name": "stdout",
     "output_type": "stream",
     "text": [
      "tensor([[0.7740, 0.3371, 0.7249, 0.8731],\n",
      "        [0.4824, 0.5949, 0.1880, 0.3000],\n",
      "        [0.9517, 0.0537, 0.3766, 0.8955]])\n",
      "tensor([[0.7740, 0.3371, 0.7249, 0.8731],\n",
      "        [0.4824, 0.5949, 0.1880, 0.3000],\n",
      "        [0.9517, 0.0537, 0.3766, 0.8955]])\n",
      "tensor([[False, False, False, False],\n",
      "        [False, False, False, False],\n",
      "        [False, False, False, False]])\n"
     ]
    }
   ],
   "source": [
    "# create 2 random tensors\n",
    "random_tensor_A = torch.rand(3, 4)\n",
    "random_tensor_B = torch.rand(3, 4)\n",
    "\n",
    "print(random_tensor_A)\n",
    "print(random_tensor_A)\n",
    "print(random_tensor_A == random_tensor_B)"
   ]
  },
  {
   "cell_type": "code",
   "execution_count": 112,
   "id": "36b534c4",
   "metadata": {},
   "outputs": [
    {
     "name": "stdout",
     "output_type": "stream",
     "text": [
      "tensor([[0.8823, 0.9150, 0.3829, 0.9593],\n",
      "        [0.3904, 0.6009, 0.2566, 0.7936],\n",
      "        [0.9408, 0.1332, 0.9346, 0.5936]])\n",
      "tensor([[0.8823, 0.9150, 0.3829, 0.9593],\n",
      "        [0.3904, 0.6009, 0.2566, 0.7936],\n",
      "        [0.9408, 0.1332, 0.9346, 0.5936]])\n",
      "tensor([[True, True, True, True],\n",
      "        [True, True, True, True],\n",
      "        [True, True, True, True]])\n"
     ]
    }
   ],
   "source": [
    "# now we use random_seed \n",
    "RANDOM_SEED = 42\n",
    "torch.manual_seed(RANDOM_SEED)\n",
    "random_tensor_C = torch.rand(3, 4)\n",
    "\n",
    "torch.manual_seed(RANDOM_SEED)\n",
    "random_tensor_D = torch.rand(3, 4)\n",
    "\n",
    "print(random_tensor_C)\n",
    "print(random_tensor_D)\n",
    "print(random_tensor_C == random_tensor_D)"
   ]
  },
  {
   "cell_type": "markdown",
   "id": "3d908e2a",
   "metadata": {},
   "source": [
    "### 12.Accessing GPU"
   ]
  },
  {
   "cell_type": "code",
   "execution_count": 117,
   "id": "813ef81d",
   "metadata": {},
   "outputs": [],
   "source": [
    "device = \"mps\" if torch.backends.mps.is_available() else \"cpu\" # for mac\n",
    "# device = \"cuda\" if torch.cuda.is_available() else \"cpu\" # for windows\n",
    "device"
   ]
  },
  {
   "cell_type": "markdown",
   "id": "260b7f8f",
   "metadata": {},
   "source": [
    "For pytorch since it can run on both cpu and gpu, it's best practice to setup a device agnostic code <br>\n",
    "eg. run on gpu if available, else run on cpu"
   ]
  },
  {
   "cell_type": "code",
   "execution_count": 127,
   "id": "4b290285",
   "metadata": {},
   "outputs": [
    {
     "name": "stdout",
     "output_type": "stream",
     "text": [
      " Previous Device: cpu\n",
      " Current Device: mps:0\n"
     ]
    }
   ],
   "source": [
    "# putting tensors on gpu\n",
    "tensor = torch.tensor([1,2,3])\n",
    "print(f\" Previous Device: {tensor.device}\") # by default the tensor is created on cpu\n",
    "\n",
    "# now we send it to gpu\n",
    "tensor = tensor.to(device)\n",
    "\n",
    "print(f\" Current Device: {tensor.device}\")"
   ]
  },
  {
   "cell_type": "code",
   "execution_count": 129,
   "id": "06e062b8",
   "metadata": {},
   "outputs": [
    {
     "data": {
      "text/plain": [
       "array([1, 2, 3])"
      ]
     },
     "execution_count": 129,
     "metadata": {},
     "output_type": "execute_result"
    }
   ],
   "source": [
    "# Note -> When tensor is on gpu we can't convert it to numpy\n",
    "# tensor.numpy() # gives error\n",
    "\n",
    "# hence we first have to bring it to the cpu\n",
    "tensor.cpu().numpy()"
   ]
  }
 ],
 "metadata": {
  "kernelspec": {
   "display_name": "Python 3 (ipykernel)",
   "language": "python",
   "name": "python3"
  },
  "language_info": {
   "codemirror_mode": {
    "name": "ipython",
    "version": 3
   },
   "file_extension": ".py",
   "mimetype": "text/x-python",
   "name": "python",
   "nbconvert_exporter": "python",
   "pygments_lexer": "ipython3",
   "version": "3.11.5"
  }
 },
 "nbformat": 4,
 "nbformat_minor": 5
}
